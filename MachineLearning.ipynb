{
 "cells": [
  {
   "cell_type": "markdown",
   "id": "cc659858",
   "metadata": {},
   "source": [
    "stayed = 1, churned = 0"
   ]
  },
  {
   "cell_type": "code",
   "execution_count": 59,
   "id": "9af0cab7",
   "metadata": {},
   "outputs": [],
   "source": [
    "import pandas as pd\n",
    "import numpy as np\n",
    "import pandas_profiling.profile_report as report\n",
    "\n",
    "import re\n",
    "import seaborn as sns\n",
    "sns.set(style = 'white')\n",
    "import matplotlib.pyplot as plt\n",
    "from xgboost import plot_importance\n",
    "%matplotlib inline\n",
    "import matplotlib.ticker as mtick # For specifying the axes tick format \n",
    "\n",
    "import warnings\n",
    "warnings.filterwarnings('ignore')\n",
    "\n",
    "# Label Encoding\n",
    "from sklearn.preprocessing import LabelEncoder\n",
    "\n",
    "# modeling\n",
    "from sklearn.linear_model import Ridge\n",
    "from sklearn.linear_model import Lasso\n",
    "from sklearn import model_selection\n",
    "from sklearn.model_selection import train_test_split, cross_validate, GridSearchCV\n",
    "from sklearn.tree import DecisionTreeClassifier, plot_tree\n",
    "from sklearn.metrics import accuracy_score, classification_report\n",
    "from sklearn.linear_model import LogisticRegression\n",
    "from sklearn.svm import SVC\n",
    "from sklearn.feature_selection import SelectFromModel\n",
    "from xgboost import XGBClassifier\n",
    "from sklearn.ensemble import RandomForestClassifier, GradientBoostingClassifier, AdaBoostClassifier, BaggingClassifier, VotingClassifier, StackingClassifier\n",
    "from sklearn.metrics import accuracy_score, classification_report\n",
    "from sklearn.model_selection import train_test_split, KFold\n",
    "\n",
    "from sklearn import metrics\n",
    "from sklearn.metrics import classification_report, precision_recall_curve\n",
    "from sklearn.metrics import auc, roc_auc_score, roc_curve\n",
    "from sklearn.metrics import make_scorer, recall_score, log_loss\n",
    "from sklearn.metrics import average_precision_score\n",
    "from sklearn.metrics import accuracy_score, precision_score, recall_score\n",
    "from sklearn.metrics import classification_report, confusion_matrix\n",
    "# from sklearn.metrics import plot_roc_curve\n",
    "from sklearn.metrics import RocCurveDisplay\n",
    "\n",
    "from scipy.special import softmax\n",
    "\n",
    "import tensorflow as tf\n",
    "\n",
    "import warnings\n",
    "warnings.filterwarnings('ignore')\n",
    "from lightgbm import LGBMClassifier\n",
    "import shap"
   ]
  },
  {
   "cell_type": "code",
   "execution_count": 2,
   "id": "4e52e9f4",
   "metadata": {},
   "outputs": [],
   "source": [
    "prc = pd.read_csv('/Users/yoonjihun/Downloads/Churn.csv', encoding = 'euc-kr')"
   ]
  },
  {
   "cell_type": "code",
   "execution_count": 3,
   "id": "2cb2c879",
   "metadata": {},
   "outputs": [],
   "source": [
    "prc = prc[prc['customer_status']!= 'Joined']"
   ]
  },
  {
   "cell_type": "code",
   "execution_count": 4,
   "id": "f1fbccd9",
   "metadata": {
    "scrolled": true
   },
   "outputs": [
    {
     "data": {
      "text/plain": [
       "0        Stayed\n",
       "1        Stayed\n",
       "2       Churned\n",
       "3       Churned\n",
       "4       Churned\n",
       "         ...   \n",
       "7037    Churned\n",
       "7038     Stayed\n",
       "7039    Churned\n",
       "7041     Stayed\n",
       "7042     Stayed\n",
       "Name: customer_status, Length: 6589, dtype: object"
      ]
     },
     "execution_count": 4,
     "metadata": {},
     "output_type": "execute_result"
    }
   ],
   "source": [
    "prc.customer_status"
   ]
  },
  {
   "cell_type": "code",
   "execution_count": 5,
   "id": "8f61eeb9",
   "metadata": {},
   "outputs": [],
   "source": [
    "object_col = ['customer_status']\n",
    "\n",
    "# fit()과 transform()으로 라벨 인코딩을 수행\n",
    "for feature in object_col:\n",
    "    # LabelEncoder를 객체로 생성\n",
    "    encoder = LabelEncoder()\n",
    "    # fit, transform 메소드를 통한 레이블 인코딩\n",
    "    encoder.fit(prc[feature])\n",
    "    prc[feature] = encoder.transform(prc[feature])"
   ]
  },
  {
   "cell_type": "code",
   "execution_count": 6,
   "id": "33ee2cf4",
   "metadata": {},
   "outputs": [
    {
     "data": {
      "text/plain": [
       "0       1\n",
       "1       1\n",
       "2       0\n",
       "3       0\n",
       "4       0\n",
       "       ..\n",
       "7037    0\n",
       "7038    1\n",
       "7039    0\n",
       "7041    1\n",
       "7042    1\n",
       "Name: customer_status, Length: 6589, dtype: int32"
      ]
     },
     "execution_count": 6,
     "metadata": {},
     "output_type": "execute_result"
    }
   ],
   "source": [
    "prc.customer_status"
   ]
  },
  {
   "cell_type": "code",
   "execution_count": 7,
   "id": "fe989c1c",
   "metadata": {},
   "outputs": [],
   "source": [
    "# prc = prc.drop(['churn'], axis = 1)"
   ]
  },
  {
   "cell_type": "code",
   "execution_count": 8,
   "id": "6ac2ba7e",
   "metadata": {},
   "outputs": [],
   "source": [
    "prc = prc[['contract', 'number_of_referrals', 'tenure_in_months', 'premium_tech_support', 'monthly_charge', 'online_security', 'age', 'total_charges', 'customer_status']]"
   ]
  },
  {
   "cell_type": "code",
   "execution_count": 9,
   "id": "13324025",
   "metadata": {},
   "outputs": [
    {
     "data": {
      "text/plain": [
       "Index(['contract', 'number_of_referrals', 'tenure_in_months',\n",
       "       'premium_tech_support', 'monthly_charge', 'online_security', 'age',\n",
       "       'total_charges', 'customer_status'],\n",
       "      dtype='object')"
      ]
     },
     "execution_count": 9,
     "metadata": {},
     "output_type": "execute_result"
    }
   ],
   "source": [
    "prc.columns"
   ]
  },
  {
   "cell_type": "code",
   "execution_count": 10,
   "id": "8e67ea2d",
   "metadata": {},
   "outputs": [
    {
     "name": "stdout",
     "output_type": "stream",
     "text": [
      "(4612, 8) (1977, 8)\n",
      "(4612,) (1977,)\n"
     ]
    }
   ],
   "source": [
    "X = prc.drop(['customer_status'], axis = 1)\n",
    "y = prc['customer_status']\n",
    "\n",
    "X_train, X_test, y_train, y_test = train_test_split(X, y, random_state = 42, test_size = 0.3, stratify = y)\n",
    "\n",
    "print(X_train.shape, X_test.shape)\n",
    "print(y_train.shape, y_test.shape)"
   ]
  },
  {
   "cell_type": "code",
   "execution_count": 11,
   "id": "12674be6",
   "metadata": {},
   "outputs": [],
   "source": [
    "# 금액 칼럼 표준화\n",
    "col = ['tenure_in_months', 'monthly_charge', 'total_charges']\n",
    "\n",
    "from sklearn.preprocessing import StandardScaler # 데이터 전처리: 표준점수화하기\n",
    "\n",
    "ss = StandardScaler()\n",
    "ss.fit(X_train[col])\n",
    "\n",
    "X_train[col] = ss.transform(X_train[col])\n",
    "X_test[col] = ss.transform(X_test[col])"
   ]
  },
  {
   "cell_type": "code",
   "execution_count": 12,
   "id": "aac10d75",
   "metadata": {},
   "outputs": [],
   "source": [
    "models = {\n",
    "    'Logistic Regression': LogisticRegression(),\n",
    "    'Decision Tree': DecisionTreeClassifier(),\n",
    "    'Random Forest': RandomForestClassifier(),\n",
    "    'Gradient Boosting': GradientBoostingClassifier(),\n",
    "    'XGBoost': XGBClassifier(tree_method = 'hist'),\n",
    "    'Bagging': BaggingClassifier(base_estimator=RandomForestClassifier(), n_estimators=10),\n",
    "    'LightGBM': LGBMClassifier()\n",
    "}"
   ]
  },
  {
   "cell_type": "markdown",
   "id": "4df2b498-e8c6-4c55-874d-fb1d9cb19a60",
   "metadata": {
    "tags": []
   },
   "source": [
    "## Without Cross Validation"
   ]
  },
  {
   "cell_type": "code",
   "execution_count": 13,
   "id": "bef706a8",
   "metadata": {},
   "outputs": [
    {
     "name": "stdout",
     "output_type": "stream",
     "text": [
      "Logistic Regression:\n",
      "Accuracy: 0.85\n",
      "              precision    recall  f1-score   support\n",
      "\n",
      "           0       0.72      0.75      0.73       561\n",
      "           1       0.90      0.88      0.89      1416\n",
      "\n",
      "    accuracy                           0.85      1977\n",
      "   macro avg       0.81      0.82      0.81      1977\n",
      "weighted avg       0.85      0.85      0.85      1977\n",
      "\n",
      "\n",
      "Decision Tree:\n",
      "Accuracy: 0.81\n",
      "              precision    recall  f1-score   support\n",
      "\n",
      "           0       0.66      0.68      0.67       561\n",
      "           1       0.87      0.86      0.87      1416\n",
      "\n",
      "    accuracy                           0.81      1977\n",
      "   macro avg       0.77      0.77      0.77      1977\n",
      "weighted avg       0.81      0.81      0.81      1977\n",
      "\n",
      "\n",
      "Random Forest:\n",
      "Accuracy: 0.86\n",
      "              precision    recall  f1-score   support\n",
      "\n",
      "           0       0.79      0.69      0.74       561\n",
      "           1       0.88      0.93      0.90      1416\n",
      "\n",
      "    accuracy                           0.86      1977\n",
      "   macro avg       0.84      0.81      0.82      1977\n",
      "weighted avg       0.86      0.86      0.86      1977\n",
      "\n",
      "\n",
      "Gradient Boosting:\n",
      "Accuracy: 0.87\n",
      "              precision    recall  f1-score   support\n",
      "\n",
      "           0       0.82      0.70      0.75       561\n",
      "           1       0.89      0.94      0.91      1416\n",
      "\n",
      "    accuracy                           0.87      1977\n",
      "   macro avg       0.85      0.82      0.83      1977\n",
      "weighted avg       0.87      0.87      0.87      1977\n",
      "\n",
      "\n",
      "XGBoost:\n",
      "Accuracy: 0.86\n",
      "              precision    recall  f1-score   support\n",
      "\n",
      "           0       0.78      0.72      0.75       561\n",
      "           1       0.89      0.92      0.90      1416\n",
      "\n",
      "    accuracy                           0.86      1977\n",
      "   macro avg       0.83      0.82      0.82      1977\n",
      "weighted avg       0.86      0.86      0.86      1977\n",
      "\n",
      "\n",
      "Bagging:\n",
      "Accuracy: 0.87\n",
      "              precision    recall  f1-score   support\n",
      "\n",
      "           0       0.82      0.68      0.74       561\n",
      "           1       0.88      0.94      0.91      1416\n",
      "\n",
      "    accuracy                           0.87      1977\n",
      "   macro avg       0.85      0.81      0.83      1977\n",
      "weighted avg       0.86      0.87      0.86      1977\n",
      "\n",
      "\n",
      "LightGBM:\n",
      "Accuracy: 0.87\n",
      "              precision    recall  f1-score   support\n",
      "\n",
      "           0       0.80      0.72      0.76       561\n",
      "           1       0.89      0.93      0.91      1416\n",
      "\n",
      "    accuracy                           0.87      1977\n",
      "   macro avg       0.85      0.83      0.84      1977\n",
      "weighted avg       0.87      0.87      0.87      1977\n",
      "\n",
      "\n"
     ]
    }
   ],
   "source": [
    "# Fit and evaluate models\n",
    "\n",
    "for model_name, model in models.items():\n",
    "    model.fit(X_train, y_train)\n",
    "    y_pred = model.predict(X_test)\n",
    "    accuracy = accuracy_score(y_test, y_pred)\n",
    "    accuracy = round(accuracy.mean(), 2)\n",
    "    \n",
    "    print(f'{model_name}:')\n",
    "    print(f'Accuracy: {accuracy}')\n",
    "    print(classification_report(y_test, y_pred))\n",
    "    print()\n",
    "\n",
    "# Voting\n",
    "# Stacking\n",
    "# GradientBoosting"
   ]
  },
  {
   "cell_type": "markdown",
   "id": "a2c1decd-fd1e-493a-8f4e-d045c1bf629f",
   "metadata": {
    "tags": []
   },
   "source": [
    "## Adding K-fold "
   ]
  },
  {
   "cell_type": "code",
   "execution_count": 14,
   "id": "1dd80705",
   "metadata": {},
   "outputs": [
    {
     "data": {
      "text/html": [
       "<div>\n",
       "<style scoped>\n",
       "    .dataframe tbody tr th:only-of-type {\n",
       "        vertical-align: middle;\n",
       "    }\n",
       "\n",
       "    .dataframe tbody tr th {\n",
       "        vertical-align: top;\n",
       "    }\n",
       "\n",
       "    .dataframe thead th {\n",
       "        text-align: right;\n",
       "    }\n",
       "</style>\n",
       "<table border=\"1\" class=\"dataframe\">\n",
       "  <thead>\n",
       "    <tr style=\"text-align: right;\">\n",
       "      <th></th>\n",
       "      <th>Algorithm</th>\n",
       "      <th>Accuracy</th>\n",
       "      <th>ROC AUC</th>\n",
       "      <th>Precision</th>\n",
       "      <th>Recall</th>\n",
       "      <th>f1 Score</th>\n",
       "    </tr>\n",
       "  </thead>\n",
       "  <tbody>\n",
       "    <tr>\n",
       "      <th>0</th>\n",
       "      <td>Logistic Regression</td>\n",
       "      <td>0.834127</td>\n",
       "      <td>0.898892</td>\n",
       "      <td>0.886127</td>\n",
       "      <td>0.881912</td>\n",
       "      <td>0.883896</td>\n",
       "    </tr>\n",
       "    <tr>\n",
       "      <th>6</th>\n",
       "      <td>LightGBM</td>\n",
       "      <td>0.848777</td>\n",
       "      <td>0.890780</td>\n",
       "      <td>0.879591</td>\n",
       "      <td>0.912860</td>\n",
       "      <td>0.895807</td>\n",
       "    </tr>\n",
       "    <tr>\n",
       "      <th>5</th>\n",
       "      <td>Bagging</td>\n",
       "      <td>0.847062</td>\n",
       "      <td>0.886865</td>\n",
       "      <td>0.879221</td>\n",
       "      <td>0.910386</td>\n",
       "      <td>0.894424</td>\n",
       "    </tr>\n",
       "    <tr>\n",
       "      <th>4</th>\n",
       "      <td>XGBoost</td>\n",
       "      <td>0.843536</td>\n",
       "      <td>0.881347</td>\n",
       "      <td>0.879395</td>\n",
       "      <td>0.905344</td>\n",
       "      <td>0.891860</td>\n",
       "    </tr>\n",
       "    <tr>\n",
       "      <th>3</th>\n",
       "      <td>Gradient Boosting</td>\n",
       "      <td>0.841606</td>\n",
       "      <td>0.875038</td>\n",
       "      <td>0.879658</td>\n",
       "      <td>0.901715</td>\n",
       "      <td>0.890187</td>\n",
       "    </tr>\n",
       "    <tr>\n",
       "      <th>2</th>\n",
       "      <td>Random Forest</td>\n",
       "      <td>0.834342</td>\n",
       "      <td>0.859268</td>\n",
       "      <td>0.878763</td>\n",
       "      <td>0.890912</td>\n",
       "      <td>0.884448</td>\n",
       "    </tr>\n",
       "    <tr>\n",
       "      <th>1</th>\n",
       "      <td>Decision Tree</td>\n",
       "      <td>0.822525</td>\n",
       "      <td>0.835052</td>\n",
       "      <td>0.877133</td>\n",
       "      <td>0.871623</td>\n",
       "      <td>0.874612</td>\n",
       "    </tr>\n",
       "  </tbody>\n",
       "</table>\n",
       "</div>"
      ],
      "text/plain": [
       "             Algorithm  Accuracy   ROC AUC  Precision    Recall  f1 Score\n",
       "0  Logistic Regression  0.834127  0.898892   0.886127  0.881912  0.883896\n",
       "6             LightGBM  0.848777  0.890780   0.879591  0.912860  0.895807\n",
       "5              Bagging  0.847062  0.886865   0.879221  0.910386  0.894424\n",
       "4              XGBoost  0.843536  0.881347   0.879395  0.905344  0.891860\n",
       "3    Gradient Boosting  0.841606  0.875038   0.879658  0.901715  0.890187\n",
       "2        Random Forest  0.834342  0.859268   0.878763  0.890912  0.884448\n",
       "1        Decision Tree  0.822525  0.835052   0.877133  0.871623  0.874612"
      ]
     },
     "execution_count": 14,
     "metadata": {},
     "output_type": "execute_result"
    }
   ],
   "source": [
    "model_names = [] # 각 모델 이름 리스트\n",
    "acc_results = [] # 검증세트 정확도 점수 저장할 리스트 생성\n",
    "auc_results = []\n",
    "pre_results = []\n",
    "rec_results = []\n",
    "f1_results = []\n",
    "\n",
    "result_col = [\"Algorithm\", \"Accuracy\", \"ROC AUC\", \"Precision\", \"Recall\", \"f1 Score\"] # 데이터 프레임 칼럼 리스트\n",
    "model_results = pd.DataFrame(columns = result_col) # 데이터 프레임 생성, 칼럼은 상위 칼럼 리스트\n",
    "\n",
    "# Perform K-fold cross-validation\n",
    "i=0\n",
    "for model_name, model in models.items():\n",
    "    model_names.append(model_name)\n",
    "    kf = KFold(n_splits = 5)\n",
    "    \n",
    "    cv_acc_results = model_selection.cross_val_score(model, X_train, y_train, cv = kf, scoring = 'accuracy')\n",
    "    cv_auc_results = model_selection.cross_val_score(model, X_train, y_train, cv = kf, scoring = 'roc_auc')\n",
    "    cv_pre_results = model_selection.cross_val_score(model, X_train, y_train, cv = kf, scoring = 'precision')\n",
    "    cv_rec_results = model_selection.cross_val_score(model, X_train, y_train, cv = kf, scoring = 'recall')\n",
    "    cv_f1_results = model_selection.cross_val_score(model, X_train, y_train, cv = kf, scoring = 'f1')\n",
    "\n",
    "    acc_results.append(cv_acc_results)\n",
    "    auc_results.append(cv_auc_results)\n",
    "    pre_results.append(cv_pre_results)\n",
    "    rec_results.append(cv_rec_results)\n",
    "    f1_results.append(cv_f1_results)\n",
    "    \n",
    "    model_results.loc[i] = [model_name,\n",
    "                            np.mean(acc_results),\n",
    "                            np.mean(auc_results),\n",
    "                            np.mean(pre_results),\n",
    "                            np.mean(rec_results),\n",
    "                            np.mean(f1_results)]\n",
    "\n",
    "    i+=1\n",
    "\n",
    "model_results.sort_values(by = ['ROC AUC'], ascending=False)"
   ]
  },
  {
   "cell_type": "markdown",
   "id": "6fd0456c-444a-4b9d-b5e9-873c4ba65efc",
   "metadata": {
    "jp-MarkdownHeadingCollapsed": true,
    "tags": []
   },
   "source": [
    "## Logistic Regression"
   ]
  },
  {
   "cell_type": "code",
   "execution_count": 15,
   "id": "15edd19f",
   "metadata": {},
   "outputs": [
    {
     "name": "stdout",
     "output_type": "stream",
     "text": [
      "Training accuracy  0.840\n",
      "Testing accuracy  0.845\n"
     ]
    }
   ],
   "source": [
    "lr = LogisticRegression()\n",
    "lr.fit(X_train, y_train)\n",
    "\n",
    "\n",
    "pred_train_lr = lr.predict(X_train) # 훈련세트로 예측하기\n",
    "pred_test_lr = lr.predict(X_test) # 테스트세트로 예측하기\n",
    "\n",
    "acc_train_lr = accuracy_score(pred_train_lr, y_train) # 훈련 세트 예측과 훈련 세트 실제 타겟 간의 정확도 확인\n",
    "acc_test_lr = accuracy_score(pred_test_lr, y_test) # 테스트 세트 예측과 테스트 세트 실제 타겟 간의 정확도 확인\n",
    "\n",
    "print(f'Training accuracy {acc_train_lr: .3f}') \n",
    "print(f'Testing accuracy {acc_test_lr: .3f}')"
   ]
  },
  {
   "cell_type": "code",
   "execution_count": 16,
   "id": "4d1957c7",
   "metadata": {
    "scrolled": true
   },
   "outputs": [
    {
     "name": "stdout",
     "output_type": "stream",
     "text": [
      "Accuracy\n",
      "Train score: 0.8404163052905465\n",
      "Best params: {'C': 100, 'max_iter': 300}\n",
      "Best estimator:  LogisticRegression(C=100, max_iter=300)\n",
      "Best score:  0.8378140694660203\n",
      "\n",
      "ROC_AUC\n",
      "Train score: 0.9003170561491585\n",
      "Best params: {'C': 10, 'max_iter': 100}\n",
      "Best estimator:  LogisticRegression(C=10)\n",
      "Best score:  0.8997053145761322\n"
     ]
    },
    {
     "data": {
      "text/plain": [
       "(LogisticRegression(C=100, max_iter=300), LogisticRegression(C=10))"
      ]
     },
     "execution_count": 16,
     "metadata": {},
     "output_type": "execute_result"
    }
   ],
   "source": [
    "lr = LogisticRegression()\n",
    "\n",
    "def tuning_params(X, y, params, model):\n",
    "    gs_acc = GridSearchCV(model, params, scoring = 'accuracy', cv = 5, n_jobs = -1)\n",
    "    gs_auc = GridSearchCV(model, params, scoring = 'roc_auc', cv = 5, n_jobs = -1)\n",
    "    \n",
    "    gs_acc.fit(X, y)\n",
    "    gs_auc.fit(X, y)\n",
    "    \n",
    "    print('Accuracy')\n",
    "    print('Train score:', gs_acc.score(X_train, y_train))\n",
    "    print('Best params:', gs_acc.best_params_)\n",
    "    print(\"Best estimator: \", gs_acc.best_estimator_)\n",
    "    print(\"Best score: \", gs_acc.best_score_)\n",
    "    \n",
    "    print('\\nROC_AUC')\n",
    "    print('Train score:', gs_auc.score(X_train, y_train))\n",
    "    print('Best params:', gs_auc.best_params_)\n",
    "    print(\"Best estimator: \", gs_auc.best_estimator_)\n",
    "    print(\"Best score: \", gs_auc.best_score_)\n",
    "    \n",
    "    return gs_acc.best_estimator_, gs_auc.best_estimator_\n",
    "\n",
    "\n",
    "param1 = {'C':[10, 100, 1000], 'max_iter': [100, 300, 500, 700, 900, 1100]}\n",
    "tuning_params(X_train, y_train, params = param1, model = lr)"
   ]
  },
  {
   "cell_type": "markdown",
   "id": "1d73b168",
   "metadata": {},
   "source": [
    "Accuracy\n",
    "Train score: 0.8404163052905465\n",
    "Best params: {'C': 100, 'max_iter': 300}\n",
    "Best estimator:  LogisticRegression(C=100, max_iter=300)\n",
    "Best score:  0.8378140694660203\n",
    "\n",
    "ROC_AUC\n",
    "Train score: 0.9003170561491585\n",
    "Best params: {'C': 10, 'max_iter': 100}\n",
    "Best estimator:  LogisticRegression(C=10)\n",
    "Best score:  0.8997053145761322\n",
    "\n",
    "(LogisticRegression(C=100, max_iter=300), LogisticRegression(C=10))"
   ]
  },
  {
   "cell_type": "code",
   "execution_count": 17,
   "id": "13105d4d",
   "metadata": {
    "scrolled": true
   },
   "outputs": [
    {
     "name": "stdout",
     "output_type": "stream",
     "text": [
      "Results on test data: \n",
      "Test accuracy =  0.8447\n",
      "Test precision =  0.9004\n",
      "Test recall =  0.8806\n",
      "Test auc =  0.8173\n",
      "Classification report:\n",
      "              precision    recall  f1-score   support\n",
      "\n",
      "           0       0.71      0.75      0.73       561\n",
      "           1       0.90      0.88      0.89      1416\n",
      "\n",
      "    accuracy                           0.84      1977\n",
      "   macro avg       0.81      0.82      0.81      1977\n",
      "weighted avg       0.85      0.84      0.85      1977\n",
      "\n",
      "Confusion matrix (Rows actual, Columns predicted):\n",
      "     0     1\n",
      "0  423   138\n",
      "1  169  1247\n"
     ]
    }
   ],
   "source": [
    "good_lr = LogisticRegression(C=10, max_iter=100, random_state=42)\n",
    "good_lr.fit(X_train, y_train)\n",
    "pred_lr = good_lr.predict(X_test)\n",
    "\n",
    "print('Results on test data: ')\n",
    "\n",
    "acc_lr = accuracy_score(y_test, pred_lr)\n",
    "pre_lr = precision_score(y_test, pred_lr)\n",
    "rec_lr = recall_score(y_test, pred_lr)\n",
    "auc_lr = roc_auc_score(y_test, pred_lr)\n",
    "\n",
    "print(f'Test accuracy = {acc_lr: .4f}') \n",
    "print(f'Test precision = {pre_lr: .4f}') \n",
    "print(f'Test recall = {rec_lr: .4f}') \n",
    "print(f'Test auc = {auc_lr: .4f}')\n",
    "\n",
    "print(\"Classification report:\")\n",
    "print(classification_report(y_test, pred_lr))\n",
    "\n",
    "print(\"Confusion matrix (Rows actual, Columns predicted):\")\n",
    "print(pd.DataFrame(confusion_matrix(y_test, pred_lr)))"
   ]
  },
  {
   "cell_type": "markdown",
   "id": "d9341b06",
   "metadata": {},
   "source": [
    "## Decision Tree"
   ]
  },
  {
   "cell_type": "code",
   "execution_count": 18,
   "id": "6bd9b477",
   "metadata": {},
   "outputs": [
    {
     "name": "stdout",
     "output_type": "stream",
     "text": [
      "Training accuracy  1.000\n",
      "Testing accuracy  0.814\n"
     ]
    }
   ],
   "source": [
    "dt = DecisionTreeClassifier()\n",
    "dt.fit(X_train, y_train)\n",
    "\n",
    "pred_train_dt = dt.predict(X_train)\n",
    "pred_test_dt = dt.predict(X_test)\n",
    "\n",
    "acc_train_dt = accuracy_score(pred_train_dt, y_train)\n",
    "acc_test_dt = accuracy_score(pred_test_dt, y_test)\n",
    "\n",
    "print(f'Training accuracy {acc_train_dt: .3f}') \n",
    "print(f'Testing accuracy {acc_test_dt: .3f}')"
   ]
  },
  {
   "cell_type": "code",
   "execution_count": 19,
   "id": "edc5327e",
   "metadata": {
    "scrolled": true
   },
   "outputs": [
    {
     "name": "stdout",
     "output_type": "stream",
     "text": [
      "Accuracy\n",
      "Train score: 0.8683868169991327\n",
      "Best params: {'criterion': 'entropy', 'max_depth': 6}\n",
      "Best estimator:  DecisionTreeClassifier(criterion='entropy', max_depth=6)\n",
      "Best score:  0.8532116107289489\n",
      "\n",
      "ROC_AUC\n",
      "Train score: 0.9279265333096386\n",
      "Best params: {'criterion': 'gini', 'max_depth': 6}\n",
      "Best estimator:  DecisionTreeClassifier(max_depth=6)\n",
      "Best score:  0.9035783837091012\n"
     ]
    },
    {
     "data": {
      "text/plain": [
       "(DecisionTreeClassifier(criterion='entropy', max_depth=6),\n",
       " DecisionTreeClassifier(max_depth=6))"
      ]
     },
     "execution_count": 19,
     "metadata": {},
     "output_type": "execute_result"
    }
   ],
   "source": [
    "dt = DecisionTreeClassifier()\n",
    "\n",
    "def tuning_params(X, y, params, model):\n",
    "    gs_acc = GridSearchCV(model, params, scoring = 'accuracy', cv = 5, n_jobs = -1)\n",
    "    gs_auc = GridSearchCV(model, params, scoring = 'roc_auc', cv = 5, n_jobs = -1)\n",
    "    \n",
    "    gs_acc.fit(X, y)\n",
    "    gs_auc.fit(X, y)\n",
    "    \n",
    "    print('Accuracy')\n",
    "    print('Train score:', gs_acc.score(X_train, y_train))\n",
    "    print('Best params:', gs_acc.best_params_)\n",
    "    print(\"Best estimator: \", gs_acc.best_estimator_)\n",
    "    print(\"Best score: \", gs_acc.best_score_)\n",
    "    \n",
    "    print('\\nROC_AUC')\n",
    "    print('Train score:', gs_auc.score(X_train, y_train))\n",
    "    print('Best params:', gs_auc.best_params_)\n",
    "    print(\"Best estimator: \", gs_auc.best_estimator_)\n",
    "    print(\"Best score: \", gs_auc.best_score_)\n",
    "    \n",
    "    return gs_acc.best_estimator_, gs_auc.best_estimator_\n",
    "\n",
    "\n",
    "param1 = {'criterion':['gini', 'entropy'], 'max_depth':[None,2,3,4,5,6]}\n",
    "tuning_params(X_train, y_train, params = param1, model = dt)"
   ]
  },
  {
   "cell_type": "markdown",
   "id": "c04510ee",
   "metadata": {},
   "source": [
    "Accuracy\n",
    "Train score: 0.8683868169991327\n",
    "Best params: {'criterion': 'entropy', 'max_depth': 6}\n",
    "Best estimator:  DecisionTreeClassifier(criterion='entropy', max_depth=6)\n",
    "Best score:  0.8532116107289489\n",
    "\n",
    "ROC_AUC\n",
    "Train score: 0.9279265333096386\n",
    "Best params: {'criterion': 'gini', 'max_depth': 6}\n",
    "Best estimator:  DecisionTreeClassifier(max_depth=6)\n",
    "Best score:  0.9035783837091012\n",
    "\n",
    "(DecisionTreeClassifier(criterion='entropy', max_depth=6),\n",
    " DecisionTreeClassifier(max_depth=6))"
   ]
  },
  {
   "cell_type": "code",
   "execution_count": 20,
   "id": "c531f0d3",
   "metadata": {},
   "outputs": [
    {
     "name": "stdout",
     "output_type": "stream",
     "text": [
      "Results on test data: \n",
      "Test accuracy =  0.8584\n",
      "Test precision =  0.8698\n",
      "Test recall =  0.9435\n",
      "Test auc =  0.7935\n",
      "Classification report:\n",
      "              precision    recall  f1-score   support\n",
      "\n",
      "           0       0.82      0.64      0.72       561\n",
      "           1       0.87      0.94      0.91      1416\n",
      "\n",
      "    accuracy                           0.86      1977\n",
      "   macro avg       0.84      0.79      0.81      1977\n",
      "weighted avg       0.86      0.86      0.85      1977\n",
      "\n",
      "Confusion matrix (Rows actual, Columns predicted):\n",
      "     0     1\n",
      "0  361   200\n",
      "1   80  1336\n"
     ]
    }
   ],
   "source": [
    "good_dt = DecisionTreeClassifier(criterion='gini', max_depth=6)\n",
    "good_dt.fit(X_train, y_train)\n",
    "pred_dt = good_dt.predict(X_test)\n",
    "\n",
    "print('Results on test data: ')\n",
    "\n",
    "acc_dt = accuracy_score(y_test, pred_dt)\n",
    "pre_dt = precision_score(y_test, pred_dt)\n",
    "rec_dt = recall_score(y_test, pred_dt)\n",
    "auc_dt = roc_auc_score(y_test, pred_dt)\n",
    "\n",
    "print(f'Test accuracy = {acc_dt: .4f}') \n",
    "print(f'Test precision = {pre_dt: .4f}') \n",
    "print(f'Test recall = {rec_dt: .4f}') \n",
    "print(f'Test auc = {auc_dt: .4f}')\n",
    "\n",
    "print(\"Classification report:\")\n",
    "print(classification_report(y_test, pred_dt))\n",
    "\n",
    "print(\"Confusion matrix (Rows actual, Columns predicted):\")\n",
    "print(pd.DataFrame(confusion_matrix(y_test, pred_dt)))"
   ]
  },
  {
   "cell_type": "code",
   "execution_count": 49,
   "id": "906ada2b",
   "metadata": {
    "scrolled": true
   },
   "outputs": [
    {
     "data": {
      "image/png": "[encoded data removed]",
      "text/plain": [
       "<Figure size 800x470 with 1 Axes>"
      ]
     },
     "metadata": {},
     "output_type": "display_data"
    }
   ],
   "source": [
    "# 특성중요도 시각화\n",
    "explainer = shap.TreeExplainer(good_dt)\n",
    "shap_values = explainer.shap_values(X)\n",
    "shap.summary_plot(shap_values, X_train)"
   ]
  },
  {
   "cell_type": "markdown",
   "id": "97144328-5ca9-436e-8d52-51038dd9729a",
   "metadata": {
    "jp-MarkdownHeadingCollapsed": true,
    "tags": []
   },
   "source": [
    "## Random Forest"
   ]
  },
  {
   "cell_type": "code",
   "execution_count": 21,
   "id": "668b7995",
   "metadata": {},
   "outputs": [
    {
     "name": "stdout",
     "output_type": "stream",
     "text": [
      "Training accuracy  1.000\n",
      "Testing accuracy  0.864\n"
     ]
    }
   ],
   "source": [
    "rf = RandomForestClassifier(random_state = 42)\n",
    "rf.fit(X_train, y_train)\n",
    "\n",
    "\n",
    "pred_train_rf = rf.predict(X_train) # 훈련세트로 예측하기\n",
    "pred_test_rf = rf.predict(X_test) # 테스트세트로 예측하기\n",
    "\n",
    "acc_train_rf = accuracy_score(pred_train_rf, y_train) # 훈련 세트 예측과 훈련 세트 실제 타겟 간의 정확도 확인\n",
    "acc_test_rf = accuracy_score(pred_test_rf, y_test) # 테스트 세트 예측과 테스트 세트 실제 타겟 간의 정확도 확인\n",
    "\n",
    "print(f'Training accuracy {acc_train_rf: .3f}') \n",
    "print(f'Testing accuracy {acc_test_rf: .3f}')"
   ]
  },
  {
   "cell_type": "code",
   "execution_count": 22,
   "id": "9d185e92",
   "metadata": {},
   "outputs": [
    {
     "name": "stdout",
     "output_type": "stream",
     "text": [
      "Accuracy\n",
      "Train score: 0.8742411101474414\n",
      "Best params: {'max_features': 15, 'max_leaf_nodes': 16, 'n_estimators': 25}\n",
      "Best estimator:  RandomForestClassifier(max_features=15, max_leaf_nodes=16, n_estimators=25,\n",
      "                       random_state=42)\n",
      "Best score:  0.866218569551801\n",
      "\n",
      "ROC_AUC\n",
      "Train score: 0.9348411664852537\n",
      "Best params: {'max_features': 15, 'max_leaf_nodes': 24, 'n_estimators': 75}\n",
      "Best estimator:  RandomForestClassifier(max_features=15, max_leaf_nodes=24, n_estimators=75,\n",
      "                       random_state=42)\n",
      "Best score:  0.9180368679010769\n"
     ]
    },
    {
     "data": {
      "text/plain": [
       "(RandomForestClassifier(max_features=15, max_leaf_nodes=16, n_estimators=25,\n",
       "                        random_state=42),\n",
       " RandomForestClassifier(max_features=15, max_leaf_nodes=24, n_estimators=75,\n",
       "                        random_state=42))"
      ]
     },
     "execution_count": 22,
     "metadata": {},
     "output_type": "execute_result"
    }
   ],
   "source": [
    "def tuning_params(X, y, params, model):\n",
    "    gs_acc = GridSearchCV(model, params, scoring = 'accuracy', cv = 5, n_jobs = -1)\n",
    "    gs_auc = GridSearchCV(model, params, scoring = 'roc_auc', cv = 5, n_jobs = -1)\n",
    "    \n",
    "    gs_acc.fit(X, y)\n",
    "    gs_auc.fit(X, y)\n",
    "    \n",
    "    print('Accuracy')\n",
    "    print('Train score:', gs_acc.score(X_train, y_train))\n",
    "    print('Best params:', gs_acc.best_params_)\n",
    "    print(\"Best estimator: \", gs_acc.best_estimator_)\n",
    "    print(\"Best score: \", gs_acc.best_score_)\n",
    "    \n",
    "    print('\\nROC_AUC')\n",
    "    print('Train score:', gs_auc.score(X_train, y_train))\n",
    "    print('Best params:', gs_auc.best_params_)\n",
    "    print(\"Best estimator: \", gs_auc.best_estimator_)\n",
    "    print(\"Best score: \", gs_auc.best_score_)\n",
    "    \n",
    "    return gs_acc.best_estimator_, gs_auc.best_estimator_\n",
    "\n",
    "param1 = [{'n_estimators': [25, 50, 75],\n",
    "           'max_features': [15, 20, 25],\n",
    "           'max_leaf_nodes': [8, 16, 24]}]\n",
    "tuning_params(X_train, y_train, params = param1, model = rf)"
   ]
  },
  {
   "cell_type": "markdown",
   "id": "8d3f4965",
   "metadata": {},
   "source": [
    "Accuracy\n",
    "Train score: 0.8742411101474414\n",
    "Best params: {'max_features': 15, 'max_leaf_nodes': 16, 'n_estimators': 25}\n",
    "Best estimator:  RandomForestClassifier(max_features=15, max_leaf_nodes=16, n_estimators=25,\n",
    "                       random_state=42)\n",
    "Best score:  0.866218569551801\n",
    "\n",
    "ROC_AUC\n",
    "Train score: 0.9348411664852537\n",
    "Best params: {'max_features': 15, 'max_leaf_nodes': 24, 'n_estimators': 75}\n",
    "Best estimator:  RandomForestClassifier(max_features=15, max_leaf_nodes=24, n_estimators=75,\n",
    "                       random_state=42)\n",
    "Best score:  0.9180368679010769\n",
    "\n",
    "(RandomForestClassifier(max_features=15, max_leaf_nodes=16, n_estimators=25,\n",
    "                        random_state=42),\n",
    " RandomForestClassifier(max_features=15, max_leaf_nodes=24, n_estimators=75,\n",
    "                        random_state=42))"
   ]
  },
  {
   "cell_type": "code",
   "execution_count": 23,
   "id": "b8b31774",
   "metadata": {},
   "outputs": [
    {
     "name": "stdout",
     "output_type": "stream",
     "text": [
      "Results on test data: \n",
      "Test accuracy =  0.8690\n",
      "Test precision =  0.8849\n",
      "Test recall =  0.9393\n",
      "Test auc =  0.8154\n",
      "Classification report:\n",
      "              precision    recall  f1-score   support\n",
      "\n",
      "           0       0.82      0.69      0.75       561\n",
      "           1       0.88      0.94      0.91      1416\n",
      "\n",
      "    accuracy                           0.87      1977\n",
      "   macro avg       0.85      0.82      0.83      1977\n",
      "weighted avg       0.87      0.87      0.87      1977\n",
      "\n",
      "Confusion matrix (Rows actual, Columns predicted):\n",
      "     0     1\n",
      "0  388   173\n",
      "1   86  1330\n"
     ]
    }
   ],
   "source": [
    "good_rf = RandomForestClassifier(max_features=15, max_leaf_nodes=24, n_estimators=75, random_state=42)\n",
    "\n",
    "good_rf.fit(X_train, y_train)\n",
    "pred_rf = good_rf.predict(X_test)\n",
    "\n",
    "print('Results on test data: ')\n",
    "\n",
    "acc_rf = accuracy_score(y_test, pred_rf)\n",
    "pre_rf = precision_score(y_test, pred_rf)\n",
    "rec_rf = recall_score(y_test, pred_rf)\n",
    "auc_rf = roc_auc_score(y_test, pred_rf)\n",
    "\n",
    "print(f'Test accuracy = {acc_rf: .4f}') \n",
    "print(f'Test precision = {pre_rf: .4f}') \n",
    "print(f'Test recall = {rec_rf: .4f}') \n",
    "print(f'Test auc = {auc_rf: .4f}')\n",
    "\n",
    "print(\"Classification report:\")\n",
    "print(classification_report(y_test, pred_rf))\n",
    "\n",
    "print(\"Confusion matrix (Rows actual, Columns predicted):\")\n",
    "print(pd.DataFrame(confusion_matrix(y_test, pred_rf)))"
   ]
  },
  {
   "cell_type": "code",
   "execution_count": 57,
   "id": "7b4d53f3",
   "metadata": {},
   "outputs": [
    {
     "data": {
      "image/png": "[encoded data removed]",
      "text/plain": [
       "<Figure size 800x470 with 1 Axes>"
      ]
     },
     "metadata": {},
     "output_type": "display_data"
    }
   ],
   "source": [
    "# 특성중요도 시각화\n",
    "explainer = shap.TreeExplainer(good_rf)\n",
    "shap_values = explainer.shap_values(X)\n",
    "shap.summary_plot(shap_values, X_train)"
   ]
  },
  {
   "cell_type": "markdown",
   "id": "e5afa1b4-fb1f-4dcd-9e42-fa6ba7fef6ab",
   "metadata": {
    "jp-MarkdownHeadingCollapsed": true,
    "tags": []
   },
   "source": [
    "## Bagging"
   ]
  },
  {
   "cell_type": "code",
   "execution_count": 24,
   "id": "4b5df935",
   "metadata": {},
   "outputs": [
    {
     "name": "stdout",
     "output_type": "stream",
     "text": [
      "Training accuracy  1.000\n",
      "Testing accuracy  0.864\n"
     ]
    }
   ],
   "source": [
    "# 순정 테스트\n",
    "bag = BaggingClassifier(base_estimator=RandomForestClassifier(random_state=42), \n",
    "                        random_state = 42, n_jobs = -1)\n",
    "\n",
    "bag.fit(X_train, y_train)\n",
    "pred_train_bag = bag.predict(X_train)\n",
    "pred_test_bag = bag.predict(X_test)\n",
    "\n",
    "acc_train_bag = accuracy_score(pred_train_bag, y_train) # 훈련 세트 예측과 훈련 세트 실제 타겟 간의 정확도 확인\n",
    "acc_test_bag = accuracy_score(pred_test_bag, y_test) # 테스트 세트 예측과 테스트 세트 실제 타겟 간의 정확도 확인\n",
    "\n",
    "print(f'Training accuracy {acc_train_rf: .3f}') \n",
    "print(f'Testing accuracy {acc_test_rf: .3f}')"
   ]
  },
  {
   "cell_type": "code",
   "execution_count": 25,
   "id": "475685bc",
   "metadata": {},
   "outputs": [
    {
     "name": "stdout",
     "output_type": "stream",
     "text": [
      "Accuracy\n",
      "Train score: 0.8944058976582827\n",
      "Best params: {'max_samples': 1000, 'n_estimators': 300}\n",
      "Best estimator:  BaggingClassifier(base_estimator=RandomForestClassifier(random_state=42),\n",
      "                  max_samples=1000, n_estimators=300, n_jobs=-1,\n",
      "                  random_state=42)\n",
      "Best score:  0.8666512339513469\n",
      "\n",
      "ROC_AUC\n",
      "Train score: 0.9634719013557841\n",
      "Best params: {'max_samples': 1000, 'n_estimators': 100}\n",
      "Best estimator:  BaggingClassifier(base_estimator=RandomForestClassifier(random_state=42),\n",
      "                  max_samples=1000, n_estimators=100, n_jobs=-1,\n",
      "                  random_state=42)\n",
      "Best score:  0.9189424471134494\n"
     ]
    },
    {
     "data": {
      "text/plain": [
       "(BaggingClassifier(base_estimator=RandomForestClassifier(random_state=42),\n",
       "                   max_samples=1000, n_estimators=300, n_jobs=-1,\n",
       "                   random_state=42),\n",
       " BaggingClassifier(base_estimator=RandomForestClassifier(random_state=42),\n",
       "                   max_samples=1000, n_estimators=100, n_jobs=-1,\n",
       "                   random_state=42))"
      ]
     },
     "execution_count": 25,
     "metadata": {},
     "output_type": "execute_result"
    }
   ],
   "source": [
    "def tuning_params(X, y, params, model):\n",
    "    gs_acc = GridSearchCV(model, params, scoring = 'accuracy', cv = 5, n_jobs = -1)\n",
    "    gs_auc = GridSearchCV(model, params, scoring = 'roc_auc', cv = 5, n_jobs = -1)\n",
    "    \n",
    "    gs_acc.fit(X, y)\n",
    "    gs_auc.fit(X, y)\n",
    "    \n",
    "    print('Accuracy')\n",
    "    print('Train score:', gs_acc.score(X_train, y_train))\n",
    "    print('Best params:', gs_acc.best_params_)\n",
    "    print(\"Best estimator: \", gs_acc.best_estimator_)\n",
    "    print(\"Best score: \", gs_acc.best_score_)\n",
    "    \n",
    "    print('\\nROC_AUC')\n",
    "    print('Train score:', gs_auc.score(X_train, y_train))\n",
    "    print('Best params:', gs_auc.best_params_)\n",
    "    print(\"Best estimator: \", gs_auc.best_estimator_)\n",
    "    print(\"Best score: \", gs_auc.best_score_)\n",
    "    \n",
    "    return gs_acc.best_estimator_, gs_auc.best_estimator_\n",
    "\n",
    "# (max_features=25, max_leaf_nodes=24, n_estimators=75, random_state=42)\n",
    "# bag_clf = BaggingClassifier(DecisionTreeClassifier(), n_estimators=500, max_samples=100, n_jobs=-1)\n",
    "# (DecisionTreeClassifier(), n_estimators=500, max_samples=100, bootstrap=True, n_jobs=-1, oob_score=True)\n",
    "param1 = [{'n_estimators': [100, 200, 300, 10, 50],\n",
    "          'max_samples': [10, 100, 1000],\n",
    "          }]\n",
    "tuning_params(X_train, y_train, params = param1, model = bag)"
   ]
  },
  {
   "cell_type": "markdown",
   "id": "fe42b00e",
   "metadata": {},
   "source": [
    "Accuracy\n",
    "Train score: 0.8944058976582827\n",
    "Best params: {'max_samples': 1000, 'n_estimators': 300}\n",
    "Best estimator:  BaggingClassifier(base_estimator=RandomForestClassifier(random_state=42),\n",
    "                  max_samples=1000, n_estimators=300, n_jobs=-1,\n",
    "                  random_state=42)\n",
    "Best score:  0.8666512339513469\n",
    "\n",
    "ROC_AUC\n",
    "Train score: 0.9634719013557841\n",
    "Best params: {'max_samples': 1000, 'n_estimators': 100}\n",
    "Best estimator:  BaggingClassifier(base_estimator=RandomForestClassifier(random_state=42),\n",
    "                  max_samples=1000, n_estimators=100, n_jobs=-1,\n",
    "                  random_state=42)\n",
    "Best score:  0.9189424471134494\n",
    "\n",
    "(BaggingClassifier(base_estimator=RandomForestClassifier(random_state=42),\n",
    "                   max_samples=1000, n_estimators=300, n_jobs=-1,\n",
    "                   random_state=42),\n",
    " BaggingClassifier(base_estimator=RandomForestClassifier(random_state=42),\n",
    "                   max_samples=1000, n_estimators=100, n_jobs=-1,\n",
    "                   random_state=42))"
   ]
  },
  {
   "cell_type": "code",
   "execution_count": 26,
   "id": "9e992002",
   "metadata": {},
   "outputs": [
    {
     "name": "stdout",
     "output_type": "stream",
     "text": [
      "Results on test data: \n",
      "Test accuracy =  0.8771\n",
      "Test precision =  0.8826\n",
      "Test recall =  0.9555\n",
      "Test auc =  0.8173\n",
      "Classification report:\n",
      "              precision    recall  f1-score   support\n",
      "\n",
      "           0       0.86      0.68      0.76       561\n",
      "           1       0.88      0.96      0.92      1416\n",
      "\n",
      "    accuracy                           0.88      1977\n",
      "   macro avg       0.87      0.82      0.84      1977\n",
      "weighted avg       0.88      0.88      0.87      1977\n",
      "\n",
      "Confusion matrix (Rows actual, Columns predicted):\n",
      "     0     1\n",
      "0  381   180\n",
      "1   63  1353\n"
     ]
    }
   ],
   "source": [
    "good_bag = BaggingClassifier(base_estimator=RandomForestClassifier(max_features=25, max_leaf_nodes=24, n_estimators=75, random_state=42), \n",
    "                             max_samples=1000, n_estimators=100, n_jobs=-1, oob_score=True, random_state=42)\n",
    "good_bag.fit(X_train, y_train)\n",
    "pred_bag = good_bag.predict(X_test)\n",
    "\n",
    "print('Results on test data: ')\n",
    "\n",
    "acc_bag = accuracy_score(y_test, pred_bag)\n",
    "pre_bag = precision_score(y_test, pred_bag)\n",
    "rec_bag = recall_score(y_test, pred_bag)\n",
    "auc_bag = roc_auc_score(y_test, pred_bag)\n",
    "\n",
    "print(f'Test accuracy = {acc_bag: .4f}') \n",
    "print(f'Test precision = {pre_bag: .4f}') \n",
    "print(f'Test recall = {rec_bag: .4f}') \n",
    "print(f'Test auc = {auc_bag: .4f}')\n",
    "\n",
    "print(\"Classification report:\")\n",
    "print(classification_report(y_test, pred_bag))\n",
    "\n",
    "print(\"Confusion matrix (Rows actual, Columns predicted):\")\n",
    "print(pd.DataFrame(confusion_matrix(y_test, pred_bag)))"
   ]
  },
  {
   "cell_type": "markdown",
   "id": "f3c29eb5-c4c5-47a5-b14e-c872b700af67",
   "metadata": {
    "jp-MarkdownHeadingCollapsed": true,
    "tags": []
   },
   "source": [
    "## Gradient Boosting"
   ]
  },
  {
   "cell_type": "code",
   "execution_count": 27,
   "id": "4d32908d",
   "metadata": {},
   "outputs": [
    {
     "name": "stdout",
     "output_type": "stream",
     "text": [
      "Train Score: 0.8874674065797313\n",
      "Test Score: 0.8642667619264728\n",
      "Training accuracy  0.886\n",
      "Testing accuracy  0.870\n"
     ]
    }
   ],
   "source": [
    "gb = GradientBoostingClassifier(random_state = 42)\n",
    "scores = cross_validate(gb, X_train, y_train, return_train_score = True, n_jobs = -1) # 교차검증 + 정확도 확인\n",
    "\n",
    "print(\"Train Score:\", np.mean(scores['train_score']))\n",
    "print(\"Test Score:\", np.mean(scores['test_score']))\n",
    "\n",
    "gb.fit(X_train, y_train)\n",
    "\n",
    "pred_train_gb = gb.predict(X_train)\n",
    "pred_test_gb = gb.predict(X_test)\n",
    "\n",
    "acc_train_gb = accuracy_score(pred_train_gb, y_train)\n",
    "acc_test_gb = accuracy_score(pred_test_gb, y_test)\n",
    "\n",
    "print(f'Training accuracy {acc_train_gb: .3f}') \n",
    "print(f'Testing accuracy {acc_test_gb: .3f}')"
   ]
  },
  {
   "cell_type": "code",
   "execution_count": 28,
   "id": "1a6f73a3",
   "metadata": {},
   "outputs": [
    {
     "name": "stdout",
     "output_type": "stream",
     "text": [
      "Accuracy\n",
      "Train score: 0.8818300086730269\n",
      "Best params: {'learning_rate': 0.1, 'max_depth': 3, 'n_estimators': 80}\n",
      "Best estimator:  GradientBoostingClassifier(n_estimators=80, random_state=42)\n",
      "Best score:  0.8655673403007734\n",
      "\n",
      "ROC_AUC\n",
      "Train score: 0.9417455026249343\n",
      "Best params: {'learning_rate': 0.1, 'max_depth': 3, 'n_estimators': 80}\n",
      "Best estimator:  GradientBoostingClassifier(n_estimators=80, random_state=42)\n",
      "Best score:  0.9231924290253559\n"
     ]
    },
    {
     "data": {
      "text/plain": [
       "(GradientBoostingClassifier(n_estimators=80, random_state=42),\n",
       " GradientBoostingClassifier(n_estimators=80, random_state=42))"
      ]
     },
     "execution_count": 28,
     "metadata": {},
     "output_type": "execute_result"
    }
   ],
   "source": [
    "def tuning_params(X, y, params, model):\n",
    "    gs_acc = GridSearchCV(model, params, scoring = 'accuracy', cv = 5, n_jobs = -1)\n",
    "    gs_auc = GridSearchCV(model, params, scoring = 'roc_auc', cv = 5, n_jobs = -1)\n",
    "    \n",
    "    gs_acc.fit(X, y)\n",
    "    gs_auc.fit(X, y)\n",
    "    \n",
    "    print('Accuracy')\n",
    "    print('Train score:', gs_acc.score(X_train, y_train))\n",
    "    print('Best params:', gs_acc.best_params_)\n",
    "    print(\"Best estimator: \", gs_acc.best_estimator_)\n",
    "    print(\"Best score: \", gs_acc.best_score_)\n",
    "    \n",
    "    print('\\nROC_AUC')\n",
    "    print('Train score:', gs_auc.score(X_train, y_train))\n",
    "    print('Best params:', gs_auc.best_params_)\n",
    "    print(\"Best estimator: \", gs_auc.best_estimator_)\n",
    "    print(\"Best score: \", gs_auc.best_score_)\n",
    "    \n",
    "    return gs_acc.best_estimator_, gs_auc.best_estimator_\n",
    "\n",
    "param1 = [{'n_estimators': [80, 100, 150, 200, 500],\n",
    "         'learning_rate': [0.1, 0.2, 0.3],\n",
    "         'max_depth': [1, 3, 5, 7, 9]}]\n",
    "tuning_params(X_train, y_train, params = param1, model = gb)\n"
   ]
  },
  {
   "cell_type": "markdown",
   "id": "44af9e5d",
   "metadata": {},
   "source": [
    "Accuracy\n",
    "Train score: 0.8818300086730269\n",
    "Best params: {'learning_rate': 0.1, 'max_depth': 3, 'n_estimators': 80}\n",
    "Best estimator:  GradientBoostingClassifier(n_estimators=80, random_state=42)\n",
    "Best score:  0.8655673403007734\n",
    "\n",
    "ROC_AUC\n",
    "Train score: 0.9417455026249343\n",
    "Best params: {'learning_rate': 0.1, 'max_depth': 3, 'n_estimators': 80}\n",
    "Best estimator:  GradientBoostingClassifier(n_estimators=80, random_state=42)\n",
    "Best score:  0.9231924290253559\n",
    "\n",
    "(GradientBoostingClassifier(n_estimators=80, random_state=42),\n",
    " GradientBoostingClassifier(n_estimators=80, random_state=42))"
   ]
  },
  {
   "cell_type": "code",
   "execution_count": 29,
   "id": "4234079f",
   "metadata": {},
   "outputs": [
    {
     "name": "stdout",
     "output_type": "stream",
     "text": [
      "Results on test data: \n",
      "Test accuracy =  0.8715\n",
      "Test precision =  0.8858\n",
      "Test recall =  0.9421\n",
      "Test auc =  0.8177\n",
      "Classification report:\n",
      "              precision    recall  f1-score   support\n",
      "\n",
      "           0       0.83      0.69      0.75       561\n",
      "           1       0.89      0.94      0.91      1416\n",
      "\n",
      "    accuracy                           0.87      1977\n",
      "   macro avg       0.86      0.82      0.83      1977\n",
      "weighted avg       0.87      0.87      0.87      1977\n",
      "\n",
      "Confusion matrix (Rows actual, Columns predicted):\n",
      "     0     1\n",
      "0  389   172\n",
      "1   82  1334\n"
     ]
    }
   ],
   "source": [
    "good_gb = GradientBoostingClassifier(n_estimators = 80, learning_rate = 0.1, max_depth = 3, random_state = 42)\n",
    "                            # learning_rate GB의 중요한 매개변수. 이전 트리의 오차를 얼마나 강하게 보정할 것인지를 제어\n",
    "                            # n_estimators 트리 더 많이 추가. 모델의 복잡도가 커지고 훈련 세트에서의 실수를 바로 잡을 기회가 더 많아짐\n",
    "\n",
    "good_gb.fit(X_train, y_train)\n",
    "pred_gb = good_gb.predict(X_test)\n",
    "\n",
    "print('Results on test data: ')\n",
    "\n",
    "acc_gb = accuracy_score(y_test, pred_gb)\n",
    "pre_gb = precision_score(y_test, pred_gb)\n",
    "rec_gb = recall_score(y_test, pred_gb)\n",
    "auc_gb = roc_auc_score(y_test, pred_gb)\n",
    "\n",
    "print(f'Test accuracy = {acc_gb: .4f}') \n",
    "print(f'Test precision = {pre_gb: .4f}') \n",
    "print(f'Test recall = {rec_gb: .4f}') \n",
    "print(f'Test auc = {auc_gb: .4f}')\n",
    "\n",
    "print(\"Classification report:\")\n",
    "print(classification_report(y_test, pred_gb))\n",
    "\n",
    "print(\"Confusion matrix (Rows actual, Columns predicted):\")\n",
    "print(pd.DataFrame(confusion_matrix(y_test, pred_gb)))"
   ]
  },
  {
   "cell_type": "markdown",
   "id": "84448a22-5bc6-4814-8be0-f58b0852bda3",
   "metadata": {
    "jp-MarkdownHeadingCollapsed": true,
    "tags": []
   },
   "source": [
    "## XGBoost"
   ]
  },
  {
   "cell_type": "code",
   "execution_count": 30,
   "id": "ebb73428",
   "metadata": {},
   "outputs": [
    {
     "name": "stdout",
     "output_type": "stream",
     "text": [
      "Training accuracy  0.980\n",
      "Testing accuracy  0.861\n"
     ]
    }
   ],
   "source": [
    "xgb =XGBClassifier(tree_method = 'hist', random_state = 42) # (n_estimators=700, learning_rate=0.1, max_depth=3)\n",
    "xgb.fit(X_train,y_train)\n",
    "\n",
    "pred_train_xgb = xgb.predict(X_train)\n",
    "pred_test_xgb = xgb.predict(X_test)\n",
    "\n",
    "acc_train_xgb = accuracy_score(pred_train_xgb, y_train)\n",
    "acc_test_xgb = accuracy_score(pred_test_xgb, y_test)\n",
    "\n",
    "print(f'Training accuracy {acc_train_xgb: .3f}') \n",
    "print(f'Testing accuracy {acc_test_xgb: .3f}')"
   ]
  },
  {
   "cell_type": "code",
   "execution_count": 31,
   "id": "bddb0787",
   "metadata": {},
   "outputs": [
    {
     "name": "stdout",
     "output_type": "stream",
     "text": [
      "Accuracy\n",
      "Train score: 0.8783607979184735\n",
      "Best params: {'learning_rate': 0.1, 'max_depth': 3, 'n_estimators': 100}\n",
      "Best estimator:  XGBClassifier(base_score=None, booster=None, callbacks=None,\n",
      "              colsample_bylevel=None, colsample_bynode=None,\n",
      "              colsample_bytree=None, early_stopping_rounds=None,\n",
      "              enable_categorical=False, eval_metric=None, feature_types=None,\n",
      "              gamma=None, gpu_id=None, grow_policy=None, importance_type=None,\n",
      "              interaction_constraints=None, learning_rate=0.1, max_bin=None,\n",
      "              max_cat_threshold=None, max_cat_to_onehot=None,\n",
      "              max_delta_step=None, max_depth=3, max_leaves=None,\n",
      "              min_child_weight=None, missing=nan, monotone_constraints=None,\n",
      "              n_estimators=100, n_jobs=None, num_parallel_tree=None,\n",
      "              predictor=None, random_state=42, ...)\n",
      "Best score:  0.8642655868466262\n",
      "\n",
      "ROC_AUC\n",
      "Train score: 0.9408738411785177\n",
      "Best params: {'learning_rate': 0.1, 'max_depth': 3, 'n_estimators': 100}\n",
      "Best estimator:  XGBClassifier(base_score=None, booster=None, callbacks=None,\n",
      "              colsample_bylevel=None, colsample_bynode=None,\n",
      "              colsample_bytree=None, early_stopping_rounds=None,\n",
      "              enable_categorical=False, eval_metric=None, feature_types=None,\n",
      "              gamma=None, gpu_id=None, grow_policy=None, importance_type=None,\n",
      "              interaction_constraints=None, learning_rate=0.1, max_bin=None,\n",
      "              max_cat_threshold=None, max_cat_to_onehot=None,\n",
      "              max_delta_step=None, max_depth=3, max_leaves=None,\n",
      "              min_child_weight=None, missing=nan, monotone_constraints=None,\n",
      "              n_estimators=100, n_jobs=None, num_parallel_tree=None,\n",
      "              predictor=None, random_state=42, ...)\n",
      "Best score:  0.9242402255842203\n"
     ]
    },
    {
     "data": {
      "text/plain": [
       "(XGBClassifier(base_score=None, booster=None, callbacks=None,\n",
       "               colsample_bylevel=None, colsample_bynode=None,\n",
       "               colsample_bytree=None, early_stopping_rounds=None,\n",
       "               enable_categorical=False, eval_metric=None, feature_types=None,\n",
       "               gamma=None, gpu_id=None, grow_policy=None, importance_type=None,\n",
       "               interaction_constraints=None, learning_rate=0.1, max_bin=None,\n",
       "               max_cat_threshold=None, max_cat_to_onehot=None,\n",
       "               max_delta_step=None, max_depth=3, max_leaves=None,\n",
       "               min_child_weight=None, missing=nan, monotone_constraints=None,\n",
       "               n_estimators=100, n_jobs=None, num_parallel_tree=None,\n",
       "               predictor=None, random_state=42, ...),\n",
       " XGBClassifier(base_score=None, booster=None, callbacks=None,\n",
       "               colsample_bylevel=None, colsample_bynode=None,\n",
       "               colsample_bytree=None, early_stopping_rounds=None,\n",
       "               enable_categorical=False, eval_metric=None, feature_types=None,\n",
       "               gamma=None, gpu_id=None, grow_policy=None, importance_type=None,\n",
       "               interaction_constraints=None, learning_rate=0.1, max_bin=None,\n",
       "               max_cat_threshold=None, max_cat_to_onehot=None,\n",
       "               max_delta_step=None, max_depth=3, max_leaves=None,\n",
       "               min_child_weight=None, missing=nan, monotone_constraints=None,\n",
       "               n_estimators=100, n_jobs=None, num_parallel_tree=None,\n",
       "               predictor=None, random_state=42, ...))"
      ]
     },
     "execution_count": 31,
     "metadata": {},
     "output_type": "execute_result"
    }
   ],
   "source": [
    "def tuning_params(X, y, params, model):\n",
    "    gs_acc = GridSearchCV(model, params, scoring = 'accuracy', cv = 5, n_jobs = -1)\n",
    "    gs_auc = GridSearchCV(model, params, scoring = 'roc_auc', cv = 5, n_jobs = -1)\n",
    "    \n",
    "    gs_acc.fit(X, y)\n",
    "    gs_auc.fit(X, y)\n",
    "    \n",
    "    print('Accuracy')\n",
    "    print('Train score:', gs_acc.score(X_train, y_train))\n",
    "    print('Best params:', gs_acc.best_params_)\n",
    "    print(\"Best estimator: \", gs_acc.best_estimator_)\n",
    "    print(\"Best score: \", gs_acc.best_score_)\n",
    "    \n",
    "    print('\\nROC_AUC')\n",
    "    print('Train score:', gs_auc.score(X_train, y_train))\n",
    "    print('Best params:', gs_auc.best_params_)\n",
    "    print(\"Best estimator: \", gs_auc.best_estimator_)\n",
    "    print(\"Best score: \", gs_auc.best_score_)\n",
    "    \n",
    "    return gs_acc.best_estimator_, gs_auc.best_estimator_\n",
    "\n",
    "param1 = [{'n_estimators': [100, 300, 500, 700],\n",
    "           'learning_rate': [0.1, 0.2, 0.3],\n",
    "           'max_depth': [1, 3, 5, 7, 9]}]\n",
    "\n",
    "tuning_params(X_train, y_train, params = param1, model = xgb)"
   ]
  },
  {
   "cell_type": "markdown",
   "id": "fac8d07c",
   "metadata": {},
   "source": [
    "Accuracy\n",
    "Train score: 0.8783607979184735\n",
    "Best params: {'learning_rate': 0.1, 'max_depth': 3, 'n_estimators': 100}\n",
    "Best estimator:  XGBClassifier(base_score=None, booster=None, callbacks=None,\n",
    "              colsample_bylevel=None, colsample_bynode=None,\n",
    "              colsample_bytree=None, early_stopping_rounds=None,\n",
    "              enable_categorical=False, eval_metric=None, feature_types=None,\n",
    "              gamma=None, gpu_id=None, grow_policy=None, importance_type=None,\n",
    "              interaction_constraints=None, learning_rate=0.1, max_bin=None,\n",
    "              max_cat_threshold=None, max_cat_to_onehot=None,\n",
    "              max_delta_step=None, max_depth=3, max_leaves=None,\n",
    "              min_child_weight=None, missing=nan, monotone_constraints=None,\n",
    "              n_estimators=100, n_jobs=None, num_parallel_tree=None,\n",
    "              predictor=None, random_state=42, ...)\n",
    "Best score:  0.8642655868466262\n",
    "\n",
    "ROC_AUC\n",
    "Train score: 0.9408738411785177\n",
    "Best params: {'learning_rate': 0.1, 'max_depth': 3, 'n_estimators': 100}\n",
    "Best estimator:  XGBClassifier(base_score=None, booster=None, callbacks=None,\n",
    "              colsample_bylevel=None, colsample_bynode=None,\n",
    "              colsample_bytree=None, early_stopping_rounds=None,\n",
    "              enable_categorical=False, eval_metric=None, feature_types=None,\n",
    "              gamma=None, gpu_id=None, grow_policy=None, importance_type=None,\n",
    "              interaction_constraints=None, learning_rate=0.1, max_bin=None,\n",
    "              max_cat_threshold=None, max_cat_to_onehot=None,\n",
    "              max_delta_step=None, max_depth=3, max_leaves=None,\n",
    "              min_child_weight=None, missing=nan, monotone_constraints=None,\n",
    "              n_estimators=100, n_jobs=None, num_parallel_tree=None,\n",
    "              predictor=None, random_state=42, ...)\n",
    "Best score:  0.9242402255842203\n",
    "\n",
    "(XGBClassifier(base_score=None, booster=None, callbacks=None,\n",
    "               colsample_bylevel=None, colsample_bynode=None,\n",
    "               colsample_bytree=None, early_stopping_rounds=None,\n",
    "               enable_categorical=False, eval_metric=None, feature_types=None,\n",
    "               gamma=None, gpu_id=None, grow_policy=None, importance_type=None,\n",
    "               interaction_constraints=None, learning_rate=0.1, max_bin=None,\n",
    "               max_cat_threshold=None, max_cat_to_onehot=None,\n",
    "               max_delta_step=None, max_depth=3, max_leaves=None,\n",
    "               min_child_weight=None, missing=nan, monotone_constraints=None,\n",
    "               n_estimators=100, n_jobs=None, num_parallel_tree=None,\n",
    "               predictor=None, random_state=42, ...),\n",
    " XGBClassifier(base_score=None, booster=None, callbacks=None,\n",
    "               colsample_bylevel=None, colsample_bynode=None,\n",
    "               colsample_bytree=None, early_stopping_rounds=None,\n",
    "               enable_categorical=False, eval_metric=None, feature_types=None,\n",
    "               gamma=None, gpu_id=None, grow_policy=None, importance_type=None,\n",
    "               interaction_constraints=None, learning_rate=0.1, max_bin=None,\n",
    "               max_cat_threshold=None, max_cat_to_onehot=None,\n",
    "               max_delta_step=None, max_depth=3, max_leaves=None,\n",
    "               min_child_weight=None, missing=nan, monotone_constraints=None,\n",
    "               n_estimators=100, n_jobs=None, num_parallel_tree=None,\n",
    "               predictor=None, random_state=42, ...))"
   ]
  },
  {
   "cell_type": "code",
   "execution_count": 32,
   "id": "86102064",
   "metadata": {},
   "outputs": [
    {
     "name": "stdout",
     "output_type": "stream",
     "text": [
      "[0]\tvalidation_0-logloss:0.64216\n",
      "[1]\tvalidation_0-logloss:0.59941\n",
      "[2]\tvalidation_0-logloss:0.56471\n",
      "[3]\tvalidation_0-logloss:0.53479\n",
      "[4]\tvalidation_0-logloss:0.50886\n",
      "[5]\tvalidation_0-logloss:0.48719\n",
      "[6]\tvalidation_0-logloss:0.46843\n",
      "[7]\tvalidation_0-logloss:0.45209\n",
      "[8]\tvalidation_0-logloss:0.43714\n",
      "[9]\tvalidation_0-logloss:0.42449\n",
      "[10]\tvalidation_0-logloss:0.41351\n",
      "[11]\tvalidation_0-logloss:0.40268\n",
      "[12]\tvalidation_0-logloss:0.39349\n",
      "[13]\tvalidation_0-logloss:0.38486\n",
      "[14]\tvalidation_0-logloss:0.37808\n",
      "[15]\tvalidation_0-logloss:0.37138\n",
      "[16]\tvalidation_0-logloss:0.36517\n",
      "[17]\tvalidation_0-logloss:0.36032\n",
      "[18]\tvalidation_0-logloss:0.35502\n",
      "[19]\tvalidation_0-logloss:0.35058\n",
      "[20]\tvalidation_0-logloss:0.34527\n",
      "[21]\tvalidation_0-logloss:0.34203\n",
      "[22]\tvalidation_0-logloss:0.33895\n",
      "[23]\tvalidation_0-logloss:0.33561\n",
      "[24]\tvalidation_0-logloss:0.33280\n",
      "[25]\tvalidation_0-logloss:0.33054\n",
      "[26]\tvalidation_0-logloss:0.32699\n",
      "[27]\tvalidation_0-logloss:0.32482\n",
      "[28]\tvalidation_0-logloss:0.32225\n",
      "[29]\tvalidation_0-logloss:0.32006\n",
      "[30]\tvalidation_0-logloss:0.31834\n",
      "[31]\tvalidation_0-logloss:0.31689\n",
      "[32]\tvalidation_0-logloss:0.31553\n",
      "[33]\tvalidation_0-logloss:0.31403\n",
      "[34]\tvalidation_0-logloss:0.31294\n",
      "[35]\tvalidation_0-logloss:0.31079\n",
      "[36]\tvalidation_0-logloss:0.30985\n",
      "[37]\tvalidation_0-logloss:0.30816\n",
      "[38]\tvalidation_0-logloss:0.30682\n",
      "[39]\tvalidation_0-logloss:0.30606\n",
      "[40]\tvalidation_0-logloss:0.30477\n",
      "[41]\tvalidation_0-logloss:0.30414\n",
      "[42]\tvalidation_0-logloss:0.30314\n",
      "[43]\tvalidation_0-logloss:0.30183\n",
      "[44]\tvalidation_0-logloss:0.30098\n",
      "[45]\tvalidation_0-logloss:0.30055\n",
      "[46]\tvalidation_0-logloss:0.29991\n",
      "[47]\tvalidation_0-logloss:0.29898\n",
      "[48]\tvalidation_0-logloss:0.29867\n",
      "[49]\tvalidation_0-logloss:0.29794\n",
      "[50]\tvalidation_0-logloss:0.29767\n",
      "[51]\tvalidation_0-logloss:0.29696\n",
      "[52]\tvalidation_0-logloss:0.29618\n",
      "[53]\tvalidation_0-logloss:0.29557\n",
      "[54]\tvalidation_0-logloss:0.29515\n",
      "[55]\tvalidation_0-logloss:0.29467\n",
      "[56]\tvalidation_0-logloss:0.29406\n",
      "[57]\tvalidation_0-logloss:0.29368\n",
      "[58]\tvalidation_0-logloss:0.29318\n",
      "[59]\tvalidation_0-logloss:0.29309\n",
      "[60]\tvalidation_0-logloss:0.29284\n",
      "[61]\tvalidation_0-logloss:0.29222\n",
      "[62]\tvalidation_0-logloss:0.29183\n",
      "[63]\tvalidation_0-logloss:0.29156\n",
      "[64]\tvalidation_0-logloss:0.29144\n",
      "[65]\tvalidation_0-logloss:0.29132\n",
      "[66]\tvalidation_0-logloss:0.29114\n",
      "[67]\tvalidation_0-logloss:0.29104\n",
      "[68]\tvalidation_0-logloss:0.29064\n",
      "[69]\tvalidation_0-logloss:0.29051\n",
      "[70]\tvalidation_0-logloss:0.29034\n",
      "[71]\tvalidation_0-logloss:0.29013\n",
      "[72]\tvalidation_0-logloss:0.28978\n",
      "[73]\tvalidation_0-logloss:0.28982\n",
      "[74]\tvalidation_0-logloss:0.28967\n",
      "[75]\tvalidation_0-logloss:0.28941\n",
      "[76]\tvalidation_0-logloss:0.28909\n",
      "[77]\tvalidation_0-logloss:0.28902\n",
      "[78]\tvalidation_0-logloss:0.28889\n",
      "[79]\tvalidation_0-logloss:0.28885\n",
      "[80]\tvalidation_0-logloss:0.28885\n",
      "[81]\tvalidation_0-logloss:0.28869\n",
      "[82]\tvalidation_0-logloss:0.28861\n",
      "[83]\tvalidation_0-logloss:0.28854\n",
      "[84]\tvalidation_0-logloss:0.28857\n",
      "[85]\tvalidation_0-logloss:0.28852\n",
      "[86]\tvalidation_0-logloss:0.28837\n",
      "[87]\tvalidation_0-logloss:0.28835\n",
      "[88]\tvalidation_0-logloss:0.28831\n",
      "[89]\tvalidation_0-logloss:0.28827\n",
      "[90]\tvalidation_0-logloss:0.28822\n",
      "[91]\tvalidation_0-logloss:0.28806\n",
      "[92]\tvalidation_0-logloss:0.28799\n",
      "[93]\tvalidation_0-logloss:0.28788\n",
      "[94]\tvalidation_0-logloss:0.28776\n",
      "[95]\tvalidation_0-logloss:0.28770\n",
      "[96]\tvalidation_0-logloss:0.28752\n",
      "[97]\tvalidation_0-logloss:0.28741\n",
      "[98]\tvalidation_0-logloss:0.28734\n",
      "[99]\tvalidation_0-logloss:0.28732\n",
      "Results on test data: \n",
      "Test accuracy =  0.8730\n",
      "Test precision =  0.8870\n",
      "Test recall =  0.9428\n",
      "Test auc =  0.8199\n",
      "Classification report:\n",
      "              precision    recall  f1-score   support\n",
      "\n",
      "           0       0.83      0.70      0.76       561\n",
      "           1       0.89      0.94      0.91      1416\n",
      "\n",
      "    accuracy                           0.87      1977\n",
      "   macro avg       0.86      0.82      0.84      1977\n",
      "weighted avg       0.87      0.87      0.87      1977\n",
      "\n",
      "Confusion matrix (Rows actual, Columns predicted):\n",
      "     0     1\n",
      "0  391   170\n",
      "1   81  1335\n"
     ]
    }
   ],
   "source": [
    "good_xgb = XGBClassifier(tree_method = 'hist', learning_rate = 0.1, max_depth = 3, n_estimators = 100, random_state = 42)\n",
    "\n",
    "evals = [(X_test, y_test)]\n",
    "good_xgb.fit(X_train, y_train, \n",
    "             early_stopping_rounds = 100, eval_metric=\"logloss\", eval_set = evals, verbose=True)\n",
    "pred_xgb = good_xgb.predict(X_test)\n",
    "\n",
    "\n",
    "print('Results on test data: ')\n",
    "\n",
    "acc_xgb = accuracy_score(y_test, pred_xgb)\n",
    "pre_xgb = precision_score(y_test, pred_xgb)\n",
    "rec_xgb = recall_score(y_test, pred_xgb)\n",
    "auc_xgb = roc_auc_score(y_test, pred_xgb)\n",
    "\n",
    "print(f'Test accuracy = {acc_xgb: .4f}') \n",
    "print(f'Test precision = {pre_xgb: .4f}') \n",
    "print(f'Test recall = {rec_xgb: .4f}') \n",
    "print(f'Test auc = {auc_xgb: .4f}')\n",
    "\n",
    "print(\"Classification report:\")\n",
    "print(classification_report(y_test, pred_xgb))\n",
    "\n",
    "print(\"Confusion matrix (Rows actual, Columns predicted):\")\n",
    "print(pd.DataFrame(confusion_matrix(y_test, pred_xgb)))"
   ]
  },
  {
   "cell_type": "markdown",
   "id": "bb79eb7f",
   "metadata": {},
   "source": [
    "## LightGBM"
   ]
  },
  {
   "cell_type": "code",
   "execution_count": 33,
   "id": "487ce9c5",
   "metadata": {},
   "outputs": [
    {
     "name": "stdout",
     "output_type": "stream",
     "text": [
      "Training accuracy  0.941\n",
      "Testing accuracy  0.871\n"
     ]
    }
   ],
   "source": [
    "lgbm = LGBMClassifier()\n",
    "lgbm.fit(X_train, y_train)\n",
    "\n",
    "pred_train_lgbm = lgbm.predict(X_train)\n",
    "pred_test_lgbm = lgbm.predict(X_test)\n",
    "\n",
    "acc_train_lgbm = accuracy_score(pred_train_lgbm, y_train)\n",
    "acc_test_lgbm = accuracy_score(pred_test_lgbm, y_test)\n",
    "\n",
    "print(f'Training accuracy {acc_train_lgbm: .3f}') \n",
    "print(f'Testing accuracy {acc_test_lgbm: .3f}')"
   ]
  },
  {
   "cell_type": "code",
   "execution_count": 34,
   "id": "800e2af0",
   "metadata": {},
   "outputs": [
    {
     "name": "stdout",
     "output_type": "stream",
     "text": [
      "Accuracy\n",
      "Train score: 0.8712055507372073\n",
      "Best params: {'learning_rate': 0.1, 'max_depth': 1, 'n_estimators': 500}\n",
      "Best estimator:  LGBMClassifier(max_depth=1, n_estimators=500)\n",
      "Best score:  0.8653499505291384\n",
      "\n",
      "ROC_AUC\n",
      "Train score: 0.94337567381952\n",
      "Best params: {'learning_rate': 0.1, 'max_depth': 3, 'n_estimators': 100}\n",
      "Best estimator:  LGBMClassifier(max_depth=3)\n",
      "Best score:  0.9236810951588748\n"
     ]
    },
    {
     "data": {
      "text/plain": [
       "(LGBMClassifier(max_depth=1, n_estimators=500), LGBMClassifier(max_depth=3))"
      ]
     },
     "execution_count": 34,
     "metadata": {},
     "output_type": "execute_result"
    }
   ],
   "source": [
    "lgbm = LGBMClassifier()\n",
    "\n",
    "def tuning_params(X, y, params, model):\n",
    "    gs_acc = GridSearchCV(model, params, scoring = 'accuracy', cv = 5, n_jobs = -1)\n",
    "    gs_auc = GridSearchCV(model, params, scoring = 'roc_auc', cv = 5, n_jobs = -1)\n",
    "    \n",
    "    gs_acc.fit(X, y)\n",
    "    gs_auc.fit(X, y)\n",
    "    \n",
    "    print('Accuracy')\n",
    "    print('Train score:', gs_acc.score(X_train, y_train))\n",
    "    print('Best params:', gs_acc.best_params_)\n",
    "    print(\"Best estimator: \", gs_acc.best_estimator_)\n",
    "    print(\"Best score: \", gs_acc.best_score_)\n",
    "    \n",
    "    print('\\nROC_AUC')\n",
    "    print('Train score:', gs_auc.score(X_train, y_train))\n",
    "    print('Best params:', gs_auc.best_params_)\n",
    "    print(\"Best estimator: \", gs_auc.best_estimator_)\n",
    "    print(\"Best score: \", gs_auc.best_score_)\n",
    "    \n",
    "    return gs_acc.best_estimator_, gs_auc.best_estimator_\n",
    "\n",
    "\n",
    "param1 = [{'n_estimators': [100, 300, 500, 700],\n",
    "           'learning_rate': [0.1, 0.2, 0.3],\n",
    "           'max_depth': [1, 3, 5, 7, 9]}]\n",
    "tuning_params(X_train, y_train, params = param1, model = lgbm)"
   ]
  },
  {
   "cell_type": "markdown",
   "id": "0de549de",
   "metadata": {},
   "source": [
    "Accuracy\n",
    "Train score: 0.8712055507372073\n",
    "Best params: {'learning_rate': 0.1, 'max_depth': 1, 'n_estimators': 500}\n",
    "Best estimator:  LGBMClassifier(max_depth=1, n_estimators=500)\n",
    "Best score:  0.8653499505291384\n",
    "\n",
    "ROC_AUC\n",
    "Train score: 0.94337567381952\n",
    "Best params: {'learning_rate': 0.1, 'max_depth': 3, 'n_estimators': 100}\n",
    "Best estimator:  LGBMClassifier(max_depth=3)\n",
    "Best score:  0.9236810951588748\n",
    "\n",
    "(LGBMClassifier(max_depth=1, n_estimators=500), LGBMClassifier(max_depth=3))"
   ]
  },
  {
   "cell_type": "code",
   "execution_count": 35,
   "id": "4c9f3c43",
   "metadata": {
    "scrolled": true
   },
   "outputs": [
    {
     "name": "stdout",
     "output_type": "stream",
     "text": [
      "Results on test data: \n",
      "Test accuracy =  0.8735\n",
      "Test precision =  0.8881\n",
      "Test recall =  0.9421\n",
      "Test auc =  0.8213\n",
      "Classification report:\n",
      "              precision    recall  f1-score   support\n",
      "\n",
      "           0       0.83      0.70      0.76       561\n",
      "           1       0.89      0.94      0.91      1416\n",
      "\n",
      "    accuracy                           0.87      1977\n",
      "   macro avg       0.86      0.82      0.84      1977\n",
      "weighted avg       0.87      0.87      0.87      1977\n",
      "\n",
      "Confusion matrix (Rows actual, Columns predicted):\n",
      "     0     1\n",
      "0  393   168\n",
      "1   82  1334\n"
     ]
    }
   ],
   "source": [
    "good_lgbm = LGBMClassifier(learning_rate = 0.1, max_depth = 3, n_estimators = 100)\n",
    "good_lgbm.fit(X_train, y_train)\n",
    "pred_lgbm = good_lgbm.predict(X_test)\n",
    "\n",
    "print('Results on test data: ')\n",
    "\n",
    "acc_lgbm = accuracy_score(y_test, pred_lgbm)\n",
    "pre_lgbm = precision_score(y_test, pred_lgbm)\n",
    "rec_lgbm = recall_score(y_test, pred_lgbm)\n",
    "auc_lgbm = roc_auc_score(y_test, pred_lgbm)\n",
    "\n",
    "print(f'Test accuracy = {acc_lgbm: .4f}') \n",
    "print(f'Test precision = {pre_lgbm: .4f}') \n",
    "print(f'Test recall = {rec_lgbm: .4f}') \n",
    "print(f'Test auc = {auc_lgbm: .4f}')\n",
    "\n",
    "print(\"Classification report:\")\n",
    "print(classification_report(y_test, pred_lgbm))\n",
    "\n",
    "print(\"Confusion matrix (Rows actual, Columns predicted):\")\n",
    "print(pd.DataFrame(confusion_matrix(y_test, pred_lgbm)))"
   ]
  },
  {
   "cell_type": "code",
   "execution_count": 58,
   "id": "665c401b",
   "metadata": {},
   "outputs": [
    {
     "data": {
      "image/png": "[encoded data removed]",
      "text/plain": [
       "<Figure size 800x470 with 1 Axes>"
      ]
     },
     "metadata": {},
     "output_type": "display_data"
    }
   ],
   "source": [
    "# 특성 중요도 시각화\n",
    "explainer = shap.TreeExplainer(good_lgbm)\n",
    "shap_values = explainer.shap_values(X)\n",
    "shap.summary_plot(shap_values, X_train)"
   ]
  },
  {
   "cell_type": "code",
   "execution_count": 36,
   "id": "3b91889c",
   "metadata": {},
   "outputs": [],
   "source": [
    "models = {\n",
    "    'Logistic Regression': LogisticRegression(C=10, max_iter=100, random_state=42),\n",
    "    'Decision Tree': DecisionTreeClassifier(criterion='gini', max_depth=6),\n",
    "    'Random Forest': RandomForestClassifier(max_features=15, max_leaf_nodes=24, n_estimators=75, random_state=42),\n",
    "    'Gradient Boosting': GradientBoostingClassifier(n_estimators = 80, learning_rate = 0.1, max_depth = 3, random_state = 42),\n",
    "    'XGBoost': XGBClassifier(tree_method = 'hist', learning_rate = 0.1, max_depth = 3, n_estimators = 100, random_state = 42),\n",
    "    'Bagging': BaggingClassifier(base_estimator=RandomForestClassifier(max_features=25, max_leaf_nodes=24, n_estimators=75, random_state=42), \n",
    "                             max_samples=1000, n_estimators=100, n_jobs=-1, oob_score=True, random_state=42),\n",
    "    'LightGBM': LGBMClassifier(learning_rate = 0.1, max_depth = 3, n_estimators = 100)\n",
    "}"
   ]
  },
  {
   "cell_type": "code",
   "execution_count": 37,
   "id": "188995c5",
   "metadata": {},
   "outputs": [
    {
     "data": {
      "text/html": [
       "<div>\n",
       "<style scoped>\n",
       "    .dataframe tbody tr th:only-of-type {\n",
       "        vertical-align: middle;\n",
       "    }\n",
       "\n",
       "    .dataframe tbody tr th {\n",
       "        vertical-align: top;\n",
       "    }\n",
       "\n",
       "    .dataframe thead th {\n",
       "        text-align: right;\n",
       "    }\n",
       "</style>\n",
       "<table border=\"1\" class=\"dataframe\">\n",
       "  <thead>\n",
       "    <tr style=\"text-align: right;\">\n",
       "      <th></th>\n",
       "      <th>Algorithm</th>\n",
       "      <th>Accuracy</th>\n",
       "      <th>ROC AUC</th>\n",
       "      <th>Precision</th>\n",
       "      <th>Recall</th>\n",
       "      <th>f1 Score</th>\n",
       "    </tr>\n",
       "  </thead>\n",
       "  <tbody>\n",
       "    <tr>\n",
       "      <th>6</th>\n",
       "      <td>LightGBM</td>\n",
       "      <td>0.854198</td>\n",
       "      <td>0.903247</td>\n",
       "      <td>0.878911</td>\n",
       "      <td>0.923276</td>\n",
       "      <td>0.900329</td>\n",
       "    </tr>\n",
       "    <tr>\n",
       "      <th>5</th>\n",
       "      <td>Bagging</td>\n",
       "      <td>0.853374</td>\n",
       "      <td>0.901694</td>\n",
       "      <td>0.878699</td>\n",
       "      <td>0.922189</td>\n",
       "      <td>0.899693</td>\n",
       "    </tr>\n",
       "    <tr>\n",
       "      <th>4</th>\n",
       "      <td>XGBoost</td>\n",
       "      <td>0.852502</td>\n",
       "      <td>0.900306</td>\n",
       "      <td>0.879062</td>\n",
       "      <td>0.920214</td>\n",
       "      <td>0.898945</td>\n",
       "    </tr>\n",
       "    <tr>\n",
       "      <th>3</th>\n",
       "      <td>Gradient Boosting</td>\n",
       "      <td>0.851157</td>\n",
       "      <td>0.898169</td>\n",
       "      <td>0.878816</td>\n",
       "      <td>0.918320</td>\n",
       "      <td>0.897904</td>\n",
       "    </tr>\n",
       "    <tr>\n",
       "      <th>2</th>\n",
       "      <td>Random Forest</td>\n",
       "      <td>0.849629</td>\n",
       "      <td>0.895667</td>\n",
       "      <td>0.878441</td>\n",
       "      <td>0.916288</td>\n",
       "      <td>0.896727</td>\n",
       "    </tr>\n",
       "    <tr>\n",
       "      <th>1</th>\n",
       "      <td>Decision Tree</td>\n",
       "      <td>0.847810</td>\n",
       "      <td>0.893187</td>\n",
       "      <td>0.878789</td>\n",
       "      <td>0.912769</td>\n",
       "      <td>0.895234</td>\n",
       "    </tr>\n",
       "    <tr>\n",
       "      <th>0</th>\n",
       "      <td>Logistic Regression</td>\n",
       "      <td>0.847162</td>\n",
       "      <td>0.891827</td>\n",
       "      <td>0.880679</td>\n",
       "      <td>0.908995</td>\n",
       "      <td>0.894455</td>\n",
       "    </tr>\n",
       "  </tbody>\n",
       "</table>\n",
       "</div>"
      ],
      "text/plain": [
       "             Algorithm  Accuracy   ROC AUC  Precision    Recall  f1 Score\n",
       "6             LightGBM  0.854198  0.903247   0.878911  0.923276  0.900329\n",
       "5              Bagging  0.853374  0.901694   0.878699  0.922189  0.899693\n",
       "4              XGBoost  0.852502  0.900306   0.879062  0.920214  0.898945\n",
       "3    Gradient Boosting  0.851157  0.898169   0.878816  0.918320  0.897904\n",
       "2        Random Forest  0.849629  0.895667   0.878441  0.916288  0.896727\n",
       "1        Decision Tree  0.847810  0.893187   0.878789  0.912769  0.895234\n",
       "0  Logistic Regression  0.847162  0.891827   0.880679  0.908995  0.894455"
      ]
     },
     "execution_count": 37,
     "metadata": {},
     "output_type": "execute_result"
    }
   ],
   "source": [
    "model_names_opt = [] # 각 모델 이름 리스트\n",
    "acc_results_opt = [] # 검증세트 정확도 점수 저장할 리스트 생성\n",
    "auc_results_opt = []\n",
    "pre_results_opt = []\n",
    "rec_results_opt = []\n",
    "f1_results_opt = []\n",
    "\n",
    "result_col_opt = [\"Algorithm\", \"Accuracy\", \"ROC AUC\", \"Precision\", \"Recall\", \"f1 Score\"] # 데이터 프레임 칼럼 리스트\n",
    "model_results_opt = pd.DataFrame(columns = result_col_opt) # 데이터 프레임 생성, 칼럼은 상위 칼럼 리스트\n",
    "\n",
    "# Perform K-fold cross-validation\n",
    "i=0\n",
    "for model_name, model in models.items():\n",
    "    model_names.append(model_name)\n",
    "    kf = KFold(n_splits = 5)\n",
    "    \n",
    "    acc_results_opt = model_selection.cross_val_score(model, X_train, y_train, cv = kf, scoring = 'accuracy')\n",
    "    auc_results_opt = model_selection.cross_val_score(model, X_train, y_train, cv = kf, scoring = 'roc_auc')\n",
    "    pre_results_opt = model_selection.cross_val_score(model, X_train, y_train, cv = kf, scoring = 'precision')\n",
    "    rec_results_opt = model_selection.cross_val_score(model, X_train, y_train, cv = kf, scoring = 'recall')\n",
    "    f1_results_opt = model_selection.cross_val_score(model, X_train, y_train, cv = kf, scoring = 'f1')\n",
    "\n",
    "    acc_results.append(acc_results_opt)\n",
    "    auc_results.append(auc_results_opt)\n",
    "    pre_results.append(pre_results_opt)\n",
    "    rec_results.append(rec_results_opt)\n",
    "    f1_results.append(f1_results_opt)\n",
    "    \n",
    "    model_results.loc[i] = [model_name,\n",
    "                            np.mean(acc_results),\n",
    "                            np.mean(auc_results),\n",
    "                            np.mean(pre_results),\n",
    "                            np.mean(rec_results),\n",
    "                            np.mean(f1_results)]\n",
    "\n",
    "    i+=1\n",
    "\n",
    "model_results.sort_values(by = ['ROC AUC'], ascending=False)"
   ]
  },
  {
   "cell_type": "code",
   "execution_count": 38,
   "id": "be829768",
   "metadata": {},
   "outputs": [
    {
     "data": {
      "text/html": [
       "<div>\n",
       "<style scoped>\n",
       "    .dataframe tbody tr th:only-of-type {\n",
       "        vertical-align: middle;\n",
       "    }\n",
       "\n",
       "    .dataframe tbody tr th {\n",
       "        vertical-align: top;\n",
       "    }\n",
       "\n",
       "    .dataframe thead th {\n",
       "        text-align: right;\n",
       "    }\n",
       "</style>\n",
       "<table border=\"1\" class=\"dataframe\">\n",
       "  <thead>\n",
       "    <tr style=\"text-align: right;\">\n",
       "      <th></th>\n",
       "      <th>Algorithm</th>\n",
       "      <th>Accuracy</th>\n",
       "      <th>ROC AUC</th>\n",
       "      <th>Precision</th>\n",
       "      <th>Recall</th>\n",
       "      <th>f1 Score</th>\n",
       "    </tr>\n",
       "  </thead>\n",
       "  <tbody>\n",
       "    <tr>\n",
       "      <th>6</th>\n",
       "      <td>LightGBM</td>\n",
       "      <td>0.856598</td>\n",
       "      <td>0.907051</td>\n",
       "      <td>0.879212</td>\n",
       "      <td>0.927145</td>\n",
       "      <td>0.902255</td>\n",
       "    </tr>\n",
       "    <tr>\n",
       "      <th>5</th>\n",
       "      <td>Bagging</td>\n",
       "      <td>0.855979</td>\n",
       "      <td>0.906102</td>\n",
       "      <td>0.879019</td>\n",
       "      <td>0.926393</td>\n",
       "      <td>0.901796</td>\n",
       "    </tr>\n",
       "    <tr>\n",
       "      <th>4</th>\n",
       "      <td>XGBoost</td>\n",
       "      <td>0.855294</td>\n",
       "      <td>0.905359</td>\n",
       "      <td>0.879171</td>\n",
       "      <td>0.925042</td>\n",
       "      <td>0.901241</td>\n",
       "    </tr>\n",
       "    <tr>\n",
       "      <th>3</th>\n",
       "      <td>Gradient Boosting</td>\n",
       "      <td>0.854646</td>\n",
       "      <td>0.904295</td>\n",
       "      <td>0.878964</td>\n",
       "      <td>0.924246</td>\n",
       "      <td>0.900756</td>\n",
       "    </tr>\n",
       "    <tr>\n",
       "      <th>2</th>\n",
       "      <td>Random Forest</td>\n",
       "      <td>0.853832</td>\n",
       "      <td>0.903119</td>\n",
       "      <td>0.878661</td>\n",
       "      <td>0.923314</td>\n",
       "      <td>0.900156</td>\n",
       "    </tr>\n",
       "    <tr>\n",
       "      <th>0</th>\n",
       "      <td>Logistic Regression</td>\n",
       "      <td>0.853228</td>\n",
       "      <td>0.902422</td>\n",
       "      <td>0.879493</td>\n",
       "      <td>0.920996</td>\n",
       "      <td>0.899519</td>\n",
       "    </tr>\n",
       "    <tr>\n",
       "      <th>1</th>\n",
       "      <td>Decision Tree</td>\n",
       "      <td>0.853043</td>\n",
       "      <td>0.902045</td>\n",
       "      <td>0.878869</td>\n",
       "      <td>0.921700</td>\n",
       "      <td>0.899509</td>\n",
       "    </tr>\n",
       "  </tbody>\n",
       "</table>\n",
       "</div>"
      ],
      "text/plain": [
       "             Algorithm  Accuracy   ROC AUC  Precision    Recall  f1 Score\n",
       "6             LightGBM  0.856598  0.907051   0.879212  0.927145  0.902255\n",
       "5              Bagging  0.855979  0.906102   0.879019  0.926393  0.901796\n",
       "4              XGBoost  0.855294  0.905359   0.879171  0.925042  0.901241\n",
       "3    Gradient Boosting  0.854646  0.904295   0.878964  0.924246  0.900756\n",
       "2        Random Forest  0.853832  0.903119   0.878661  0.923314  0.900156\n",
       "0  Logistic Regression  0.853228  0.902422   0.879493  0.920996  0.899519\n",
       "1        Decision Tree  0.853043  0.902045   0.878869  0.921700  0.899509"
      ]
     },
     "execution_count": 38,
     "metadata": {},
     "output_type": "execute_result"
    }
   ],
   "source": [
    "model_names_opt = [] # 각 모델 이름 리스트\n",
    "acc_results_opt = [] # 검증세트 정확도 점수 저장할 리스트 생성\n",
    "auc_results_opt = []\n",
    "pre_results_opt = []\n",
    "rec_results_opt = []\n",
    "f1_results_opt = []\n",
    "\n",
    "result_col_opt = [\"Algorithm\", \"Accuracy\", \"ROC AUC\", \"Precision\", \"Recall\", \"f1 Score\"] # 데이터 프레임 칼럼 리스트\n",
    "model_results_opt = pd.DataFrame(columns = result_col_opt) # 데이터 프레임 생성, 칼럼은 상위 칼럼 리스트\n",
    "\n",
    "# Perform K-fold cross-validation\n",
    "i=0\n",
    "for model_name, model in models.items():\n",
    "    model_names.append(model_name)\n",
    "    kf = KFold(n_splits = 5)\n",
    "    \n",
    "    acc_results_opt = model_selection.cross_val_score(model, X_test, y_test, cv = kf, scoring = 'accuracy')\n",
    "    auc_results_opt = model_selection.cross_val_score(model, X_test, y_test, cv = kf, scoring = 'roc_auc')\n",
    "    pre_results_opt = model_selection.cross_val_score(model, X_test, y_test, cv = kf, scoring = 'precision')\n",
    "    rec_results_opt = model_selection.cross_val_score(model, X_test, y_test, cv = kf, scoring = 'recall')\n",
    "    f1_results_opt = model_selection.cross_val_score(model, X_test, y_test, cv = kf, scoring = 'f1')\n",
    "\n",
    "    acc_results.append(acc_results_opt)\n",
    "    auc_results.append(auc_results_opt)\n",
    "    pre_results.append(pre_results_opt)\n",
    "    rec_results.append(rec_results_opt)\n",
    "    f1_results.append(f1_results_opt)\n",
    "    \n",
    "    model_results.loc[i] = [model_name,\n",
    "                            np.mean(acc_results),\n",
    "                            np.mean(auc_results),\n",
    "                            np.mean(pre_results),\n",
    "                            np.mean(rec_results),\n",
    "                            np.mean(f1_results)]\n",
    "\n",
    "    i+=1\n",
    "\n",
    "model_results.sort_values(by = ['ROC AUC'], ascending=False)\n"
   ]
  },
  {
   "cell_type": "markdown",
   "id": "de6c435a",
   "metadata": {},
   "source": [
    "### roc 곡선 그리기"
   ]
  },
  {
   "cell_type": "code",
   "execution_count": 39,
   "id": "872a8d7c",
   "metadata": {},
   "outputs": [],
   "source": [
    "from sklearn.metrics import roc_curve, roc_auc_score, auc, RocCurveDisplay\n",
    "from sklearn.datasets import load_breast_cancer\n",
    "import matplotlib.pyplot as plt"
   ]
  },
  {
   "cell_type": "markdown",
   "id": "3a266637",
   "metadata": {},
   "source": [
    "모든 모델 roc곡선"
   ]
  },
  {
   "cell_type": "code",
   "execution_count": 61,
   "id": "a3db9f3c",
   "metadata": {},
   "outputs": [
    {
     "data": {
      "image/png": "[encoded data removed]",
      "text/plain": [
       "<Figure size 800x800 with 1 Axes>"
      ]
     },
     "metadata": {},
     "output_type": "display_data"
    }
   ],
   "source": [
    "# 개별 roc 곡선\n",
    "# fig = plt.figure(figsize=(8,8))\n",
    "# fig.set_facecolor('white')\n",
    "# ax = fig.add_subplot()\n",
    "# RocCurveDisplay.from_estimator(good_lr, X, y, ax=ax)\n",
    "# ax.plot([0, 1], [0, 1], color='red', label='Random Model')\n",
    "# ax.legend()\n",
    "# plt.show()"
   ]
  },
  {
   "cell_type": "code",
   "execution_count": 41,
   "id": "da2d6120",
   "metadata": {},
   "outputs": [
    {
     "data": {
      "image/png": "[encoded data removed]",
      "text/plain": [
       "<Figure size 800x800 with 1 Axes>"
      ]
     },
     "metadata": {},
     "output_type": "display_data"
    }
   ],
   "source": [
    "fig = plt.figure(figsize=(8,8))\n",
    "fig.set_facecolor('white')\n",
    "ax = fig.add_subplot()\n",
    "RocCurveDisplay.from_estimator(good_lr, X, y, ax=ax)\n",
    "RocCurveDisplay.from_estimator(good_dt, X, y, ax=ax)\n",
    "RocCurveDisplay.from_estimator(good_rf, X, y, ax=ax)\n",
    "RocCurveDisplay.from_estimator(good_bag, X, y, ax=ax)\n",
    "RocCurveDisplay.from_estimator(good_gb, X, y, ax=ax)\n",
    "RocCurveDisplay.from_estimator(good_xgb, X, y, ax=ax)\n",
    "RocCurveDisplay.from_estimator(good_lgbm, X, y, ax=ax)\n",
    "ax.plot([0, 1], [0, 1], color='red', label='Random Model')\n",
    "ax.legend()\n",
    "plt.show()"
   ]
  },
  {
   "cell_type": "code",
   "execution_count": null,
   "id": "79413b7b",
   "metadata": {},
   "outputs": [],
   "source": []
  }
 ],
 "metadata": {
  "kernelspec": {
   "display_name": "Python 3 (ipykernel)",
   "language": "python",
   "name": "python3"
  },
  "language_info": {
   "codemirror_mode": {
    "name": "ipython",
    "version": 3
   },
   "file_extension": ".py",
   "mimetype": "text/x-python",
   "name": "python",
   "nbconvert_exporter": "python",
   "pygments_lexer": "ipython3",
   "version": "3.10.10"
  }
 },
 "nbformat": 4,
 "nbformat_minor": 5
}
